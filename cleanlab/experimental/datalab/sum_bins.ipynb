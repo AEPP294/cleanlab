{
 "cells": [
  {
   "cell_type": "code",
   "execution_count": null,
   "metadata": {},
   "outputs": [],
   "source": [
    "%load_ext autoreload\n",
    "%autoreload 2"
   ]
  },
  {
   "cell_type": "markdown",
   "metadata": {},
   "source": [
    "# Datalab"
   ]
  },
  {
   "cell_type": "code",
   "execution_count": null,
   "metadata": {},
   "outputs": [],
   "source": [
    "import numpy as np\n",
    "import pandas as pd\n",
    "from sklearn.model_selection import train_test_split, cross_val_predict\n",
    "from cleanlab.benchmarking.noise_generation import generate_noise_matrix_from_trace, generate_noisy_labels\n",
    "from datasets import Dataset\n",
    "from cleanlab.experimental.datalab.datalab import Datalab\n",
    "from sklearn.linear_model import LogisticRegression\n",
    "import matplotlib.pyplot as plt\n",
    "\n",
    "\n",
    "SEED = 123\n",
    "np.random.seed(SEED)\n",
    "\n",
    "BINS = {\n",
    "    \"low\": [0, 3.3],\n",
    "    \"mid\": [3.3, 6.6],\n",
    "    \"high\": [6.6, 10],\n",
    "}\n",
    "\n",
    "BINS_MAP = {\n",
    "    \"low\": 0,\n",
    "    \"mid\": 1,\n",
    "    \"high\": 2,\n",
    "}"
   ]
  },
  {
   "cell_type": "code",
   "execution_count": null,
   "metadata": {},
   "outputs": [],
   "source": [
    "X = np.random.rand(1000, 2) * 5\n",
    "y = np.sum(X, axis=1)\n",
    "# Map y to bins based on the BINS dict\n",
    "y_bin = np.array([k for y_i in y for k, v in BINS.items()  if v[0] <= y_i < v[1]])\n",
    "y_bin_idx = np.array([BINS_MAP[k] for k in y_bin])\n",
    "\n",
    "# Split into train and test\n",
    "X_train, X_test, y_train, y_test, y_train_idx, y_test_idx = train_test_split(X, y_bin, y_bin_idx, test_size=0.5, random_state=SEED)\n",
    "\n",
    "py = np.bincount(y_train_idx) / float(len(y_train_idx))\n",
    "m = len(BINS)\n",
    "\n",
    "noise_matrix = generate_noise_matrix_from_trace(\n",
    "    m,\n",
    "    trace=0.9 * m,\n",
    "    py=py,\n",
    "    valid_noise_matrix=True,\n",
    "    seed=SEED,\n",
    ")\n",
    "\n",
    "noisy_labels_idx = generate_noisy_labels(y_train_idx, noise_matrix)\n",
    "\n",
    "# TODO: Add noise to test set when we support extra splits in DataLab"
   ]
  },
  {
   "cell_type": "code",
   "execution_count": null,
   "metadata": {},
   "outputs": [],
   "source": [
    "# Plot data with clean labels and noisy labels, use BINS_MAP for the legend\n",
    "fig, ax = plt.subplots(1, 2, figsize=(10, 5))\n",
    "for i, (X, y) in enumerate(zip([X_train, X_train], [y_train_idx, noisy_labels_idx])):\n",
    "    for k, v in BINS_MAP.items():\n",
    "        ax[i].scatter(X[y == v, 0], X[y == v, 1], label=k)\n",
    "    ax[i].legend()\n",
    "    ax[i].set_title([\"Clean labels\", \"Noisy labels\"][i])\n",
    "    ax[i].set_xlabel(r\"$x_1$\")\n",
    "    ax[i].set_ylabel(r\"$x_2$\")\n",
    "    ax[i].set_xlim(0, 5)\n",
    "    ax[i].set_ylim(0, 5)\n",
    "\n",
    "# Plot true boundaries (x+y=3.3, x+y=6.6)\n",
    "for i in range(2):\n",
    "    ax[i].plot([0, 3.3], [3.3, 0], color=\"k\", linestyle=\"--\", alpha=0.5)\n",
    "    ax[i].plot([0, 6.6], [6.6, 0], color=\"k\", linestyle=\"--\", alpha=0.5)\n",
    "\n",
    "# Draw red circles around the points that are misclassified (i.e. the points that are in the wrong bin)\n",
    "for i, (X, y) in enumerate(zip([X_train, X_train], [y_train_idx, noisy_labels_idx])):\n",
    "    for k, v in BINS_MAP.items():\n",
    "        ax[i].plot(\n",
    "            X[(y == v) & (y != y_train_idx), 0],\n",
    "            X[(y == v) & (y != y_train_idx), 1],\n",
    "            \"o\",\n",
    "            markerfacecolor=\"none\",\n",
    "            markeredgecolor=\"red\",\n",
    "            markersize=14,\n",
    "            markeredgewidth=2.5,\n",
    "            alpha=0.5,\n",
    "        )\n",
    "\n",
    "\n",
    "plt.tight_layout()"
   ]
  },
  {
   "cell_type": "code",
   "execution_count": null,
   "metadata": {},
   "outputs": [],
   "source": [
    "print(np.mean(noisy_labels_idx == y_train_idx))  # accuracy\n",
    "noisy_labels = np.array([list(BINS_MAP.keys())[i] for i in noisy_labels_idx])\n",
    "\n",
    "# Load data into DataLab\n",
    "data = Dataset.from_dict({\"X\": X_train, \"y\": noisy_labels})"
   ]
  },
  {
   "cell_type": "markdown",
   "metadata": {},
   "source": [
    "# Instantiate a Datalab object\n",
    "\n",
    "Provide the data object and a name of the label column in the data object.\n",
    "\n",
    "Most issue types currently rely on getting (out-of-sample) predictions from a trained model.\n",
    "We'll use a simple logistic regression model for this example."
   ]
  },
  {
   "cell_type": "code",
   "execution_count": null,
   "metadata": {},
   "outputs": [],
   "source": [
    "lab = Datalab(data, label_name=\"y\")\n",
    "\n",
    "model = LogisticRegression()\n",
    "pred_probs = cross_val_predict(\n",
    "    estimator=model, X=X_train, y=noisy_labels, cv=5, method=\"predict_proba\"\n",
    ")\n",
    "lab.find_issues(pred_probs=pred_probs)\n"
   ]
  },
  {
   "cell_type": "markdown",
   "metadata": {},
   "source": [
    "We can review some of the results:"
   ]
  },
  {
   "cell_type": "code",
   "execution_count": null,
   "metadata": {},
   "outputs": [],
   "source": [
    "# Dataset health summary\n",
    "print(\"Health summary: \", lab.results)\n"
   ]
  },
  {
   "cell_type": "code",
   "execution_count": null,
   "metadata": {},
   "outputs": [],
   "source": [
    "# Per-example issues\n",
    "print(\"Issues: \", lab.issues)\n"
   ]
  },
  {
   "cell_type": "markdown",
   "metadata": {},
   "source": [
    "# Save the results"
   ]
  },
  {
   "cell_type": "code",
   "execution_count": null,
   "metadata": {},
   "outputs": [],
   "source": [
    "path = \"saved_datalab.pkl\"\n",
    "\n",
    "lab.save(path)"
   ]
  }
 ],
 "metadata": {
  "kernelspec": {
   "display_name": "Python 3.9.12 ('base')",
   "language": "python",
   "name": "python3"
  },
  "language_info": {
   "codemirror_mode": {
    "name": "ipython",
    "version": 3
   },
   "file_extension": ".py",
   "mimetype": "text/x-python",
   "name": "python",
   "nbconvert_exporter": "python",
   "pygments_lexer": "ipython3",
   "version": "3.9.12"
  },
  "orig_nbformat": 4,
  "vscode": {
   "interpreter": {
    "hash": "d4d1e4263499bec80672ea0156c357c1ee493ec2b1c70f0acce89fc37c4a6abe"
   }
  }
 },
 "nbformat": 4,
 "nbformat_minor": 2
}
