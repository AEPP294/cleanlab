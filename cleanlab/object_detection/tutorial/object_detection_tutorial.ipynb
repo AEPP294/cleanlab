{
 "cells": [
  {
   "cell_type": "code",
   "execution_count": 4,
   "metadata": {},
   "outputs": [],
   "source": [
    "import pickle\n",
    "\n",
    "from cleanlab.object_detection.rank import get_label_quality_scores, issues_from_scores"
   ]
  },
  {
   "cell_type": "markdown",
   "metadata": {},
   "source": [
    "# 1. Load the annotations and results (this would be provided by the user)"
   ]
  },
  {
   "cell_type": "code",
   "execution_count": 5,
   "metadata": {},
   "outputs": [],
   "source": [
    "results = pickle.load(open(\"results.pkl\", \"rb\"))\n",
    "annotations = pickle.load(open(\"dataset.pkl\", \"rb\"))"
   ]
  },
  {
   "cell_type": "markdown",
   "metadata": {},
   "source": [
    "Annotations contains a list of dictionaries where each annotation is a dictionary that has to contian at least `bboxes` and `labels` dictionary entries. Our annotations is created from mmdet model and therefore comes with extra keys.\n",
    "\n",
    "`bboxes[j]` is in the format `[x,y,w,h]` with given label `labels[j]`"
   ]
  },
  {
   "cell_type": "code",
   "execution_count": 6,
   "metadata": {},
   "outputs": [
    {
     "data": {
      "text/plain": [
       "(20, 5)"
      ]
     },
     "execution_count": 6,
     "metadata": {},
     "output_type": "execute_result"
    }
   ],
   "source": [
    "len(annotations), len(annotations[0])"
   ]
  },
  {
   "cell_type": "code",
   "execution_count": 7,
   "metadata": {},
   "outputs": [
    {
     "data": {
      "text/plain": [
       "{'bboxes': array([[388.66,  69.92, 498.07, 347.54],\n",
       "        [  0.  , 262.81,  62.16, 299.58],\n",
       "        [119.4 , 272.51, 144.22, 306.76],\n",
       "        [141.47, 267.91, 173.66, 303.77]], dtype=float32),\n",
       " 'labels': array([3, 3, 2, 2]),\n",
       " 'bboxes_ignore': array([], shape=(0, 4), dtype=float32),\n",
       " 'masks': [[[446.71,\n",
       "    70.66,\n",
       "    466.07,\n",
       "    72.89,\n",
       "    471.28,\n",
       "    78.85,\n",
       "    473.51,\n",
       "    88.52,\n",
       "    473.51,\n",
       "    98.2,\n",
       "    462.34,\n",
       "    111.6,\n",
       "    475.74,\n",
       "    126.48,\n",
       "    484.67,\n",
       "    136.16,\n",
       "    494.35,\n",
       "    157.74,\n",
       "    496.58,\n",
       "    174.12,\n",
       "    498.07,\n",
       "    182.31,\n",
       "    485.42,\n",
       "    189.75,\n",
       "    474.25,\n",
       "    189.01,\n",
       "    470.53,\n",
       "    202.4,\n",
       "    475.74,\n",
       "    337.12,\n",
       "    469.04,\n",
       "    347.54,\n",
       "    455.65,\n",
       "    343.08,\n",
       "    450.44,\n",
       "    323.72,\n",
       "    441.5,\n",
       "    255.99,\n",
       "    433.32,\n",
       "    250.04,\n",
       "    406.52,\n",
       "    340.1,\n",
       "    397.59,\n",
       "    344.56,\n",
       "    388.66,\n",
       "    330.42,\n",
       "    408.01,\n",
       "    182.31,\n",
       "    396.85,\n",
       "    186.77,\n",
       "    392.38,\n",
       "    177.84,\n",
       "    389.4,\n",
       "    166.68,\n",
       "    390.89,\n",
       "    147.32,\n",
       "    418.43,\n",
       "    119.04,\n",
       "    434.06,\n",
       "    111.6,\n",
       "    429.6,\n",
       "    98.94,\n",
       "    428.85,\n",
       "    81.08,\n",
       "    441.5,\n",
       "    72.89,\n",
       "    443.74,\n",
       "    69.92]],\n",
       "  [[0.43,\n",
       "    299.58,\n",
       "    2.25,\n",
       "    299.58,\n",
       "    9.05,\n",
       "    287.78,\n",
       "    32.66,\n",
       "    299.13,\n",
       "    39.01,\n",
       "    296.4,\n",
       "    48.09,\n",
       "    290.96,\n",
       "    43.55,\n",
       "    286.87,\n",
       "    62.16,\n",
       "    291.86,\n",
       "    61.25,\n",
       "    286.87,\n",
       "    37.65,\n",
       "    279.15,\n",
       "    18.13,\n",
       "    272.8,\n",
       "    0.0,\n",
       "    262.81]],\n",
       "  [[120.89,\n",
       "    289.63,\n",
       "    119.4,\n",
       "    287.15,\n",
       "    119.4,\n",
       "    283.18,\n",
       "    119.65,\n",
       "    281.44,\n",
       "    121.14,\n",
       "    280.45,\n",
       "    122.13,\n",
       "    279.21,\n",
       "    122.87,\n",
       "    276.73,\n",
       "    126.6,\n",
       "    274.0,\n",
       "    127.59,\n",
       "    273.25,\n",
       "    131.31,\n",
       "    272.51,\n",
       "    136.77,\n",
       "    274.0,\n",
       "    138.51,\n",
       "    279.71,\n",
       "    140.49,\n",
       "    295.59,\n",
       "    142.23,\n",
       "    299.56,\n",
       "    144.22,\n",
       "    301.54,\n",
       "    143.97,\n",
       "    302.78,\n",
       "    140.0,\n",
       "    305.02,\n",
       "    135.03,\n",
       "    306.26,\n",
       "    132.8,\n",
       "    306.76,\n",
       "    132.8,\n",
       "    304.77,\n",
       "    134.29,\n",
       "    301.05,\n",
       "    135.03,\n",
       "    298.57,\n",
       "    134.04,\n",
       "    294.6,\n",
       "    131.56,\n",
       "    292.11,\n",
       "    126.35,\n",
       "    289.88,\n",
       "    122.13,\n",
       "    289.38]],\n",
       "  [[147.29,\n",
       "    299.9,\n",
       "    146.13,\n",
       "    295.24,\n",
       "    143.41,\n",
       "    290.59,\n",
       "    141.47,\n",
       "    287.49,\n",
       "    141.47,\n",
       "    282.64,\n",
       "    142.06,\n",
       "    278.57,\n",
       "    143.41,\n",
       "    273.92,\n",
       "    147.87,\n",
       "    269.85,\n",
       "    154.27,\n",
       "    269.27,\n",
       "    160.47,\n",
       "    268.49,\n",
       "    165.13,\n",
       "    267.91,\n",
       "    167.84,\n",
       "    268.1,\n",
       "    170.17,\n",
       "    268.68,\n",
       "    171.33,\n",
       "    270.62,\n",
       "    171.72,\n",
       "    272.37,\n",
       "    173.66,\n",
       "    294.08,\n",
       "    173.27,\n",
       "    297.18,\n",
       "    170.17,\n",
       "    300.67,\n",
       "    155.82,\n",
       "    303.77]]],\n",
       " 'seg_map': '000000397133.png'}"
      ]
     },
     "execution_count": 7,
     "metadata": {},
     "output_type": "execute_result"
    }
   ],
   "source": [
    "annotations[0]"
   ]
  },
  {
   "cell_type": "markdown",
   "metadata": {},
   "source": [
    "Results is a list of `np.ndarray` list containing `np.ndarrays` where such that `results[i]` corresponds to the predicted results for the `i`-th image in the format `np.ndarray((K,))` where K is the number of classes and `results[i][k]` is of shape `np.ndarray(N,5)` where `N` is the number of bounding boxes for class `K` and the five columns correspond to `[x,y,w,h,pred_prob]` returned by the model.\n",
    "\n",
    "Example uses `K == 5` classes which is why `results[0].shape = (5,)`. Once again this is a standard format returned by mmdet."
   ]
  },
  {
   "cell_type": "code",
   "execution_count": 8,
   "metadata": {},
   "outputs": [
    {
     "data": {
      "text/plain": [
       "(20, (5,), (0, 5), (7, 5))"
      ]
     },
     "execution_count": 8,
     "metadata": {},
     "output_type": "execute_result"
    }
   ],
   "source": [
    "len(results), results[0].shape, results[0][0].shape, results[0][1].shape"
   ]
  },
  {
   "cell_type": "code",
   "execution_count": 9,
   "metadata": {},
   "outputs": [
    {
     "data": {
      "text/plain": [
       "array([array([], shape=(0, 5), dtype=float32),\n",
       "       array([[1.3501118e+02, 2.3542772e+02, 2.4279428e+02, 2.8032367e+02,\n",
       "               4.4206613e-01],\n",
       "              [2.7716379e+02, 3.7020465e+02, 3.3300687e+02, 4.2634985e+02,\n",
       "               2.1322379e-01],\n",
       "              [6.1857153e+02, 3.4551877e+02, 6.3922351e+02, 4.2645062e+02,\n",
       "               1.0588003e-01],\n",
       "              [1.3602586e+02, 2.4919717e+02, 1.5212564e+02, 2.7401797e+02,\n",
       "               9.5685385e-02],\n",
       "              [1.3501132e+02, 2.4770198e+02, 1.9328621e+02, 2.7312320e+02,\n",
       "               8.6356521e-02],\n",
       "              [1.3658011e+02, 2.4842778e+02, 1.6557944e+02, 2.7311761e+02,\n",
       "               7.4790925e-02],\n",
       "              [2.4792007e+02, 3.4129889e+02, 3.0850513e+02, 4.2598230e+02,\n",
       "               5.3762816e-02]], dtype=float32)                            ,\n",
       "       array([[1.57144455e+02, 1.13919823e+02, 1.73256195e+02, 1.29331223e+02,\n",
       "               7.41836667e-01],\n",
       "              [1.44432785e+02, 2.69502716e+02, 1.72974823e+02, 3.03367645e+02,\n",
       "               6.90385818e-01],\n",
       "              [1.21249992e+02, 2.74144989e+02, 1.44453445e+02, 3.06207916e+02,\n",
       "               5.25836468e-01],\n",
       "              [2.49437241e+02, 3.40538300e+02, 3.00789246e+02, 4.25401733e+02,\n",
       "               4.42396045e-01],\n",
       "              [1.55648254e+02, 1.68817551e+02, 1.82363815e+02, 1.84547745e+02,\n",
       "               3.90821248e-01],\n",
       "              [3.22218750e+02, 6.09698410e+01, 3.37243317e+02, 7.82511215e+01,\n",
       "               2.30076328e-01],\n",
       "              [3.58431824e+02, 6.33709946e+01, 3.82290070e+02, 8.74951935e+01,\n",
       "               1.61507308e-01],\n",
       "              [6.17628517e+01, 3.28288918e+01, 1.23159393e+02, 1.35469849e+02,\n",
       "               1.20105803e-01],\n",
       "              [3.37750488e+02, 6.07501259e+01, 3.56247620e+02, 7.85159302e+01,\n",
       "               1.06702194e-01],\n",
       "              [2.03805069e+02, 1.31003220e+02, 2.58592865e+02, 1.93753220e+02,\n",
       "               9.64043587e-02],\n",
       "              [3.26321381e+02, 1.64404785e+02, 3.58241211e+02, 2.05041809e+02,\n",
       "               8.97762701e-02],\n",
       "              [1.21437515e+02, 2.73073212e+02, 1.38857971e+02, 2.96033203e+02,\n",
       "               7.94703215e-02],\n",
       "              [3.06294632e+01, 3.41960175e+02, 9.94986191e+01, 3.85207275e+02,\n",
       "               7.65858740e-02],\n",
       "              [3.46647827e+02, 8.34668427e+01, 3.69730804e+02, 1.08147270e+02,\n",
       "               6.90206960e-02],\n",
       "              [2.16162369e+02, 2.61509766e+02, 2.56074310e+02, 2.98203857e+02,\n",
       "               6.76798522e-02],\n",
       "              [8.89953079e+01, 5.22441292e+00, 1.39134354e+02, 6.83468399e+01,\n",
       "               6.73348010e-02],\n",
       "              [2.53882538e+02, 1.16387108e+02, 2.93624115e+02, 1.59545700e+02,\n",
       "               6.50160164e-02],\n",
       "              [1.35494293e+02, 2.76395111e+02, 1.48795700e+02, 3.04116364e+02,\n",
       "               5.87905049e-02]], dtype=float32)                               ,\n",
       "       array([[3.8727780e+02, 6.8699867e+01, 4.9983279e+02, 3.4511765e+02,\n",
       "               9.9959058e-01],\n",
       "              [0.0000000e+00, 2.6172668e+02, 6.3421089e+01, 3.0530472e+02,\n",
       "               8.9344692e-01],\n",
       "              [4.6484708e+02, 8.7139900e+01, 5.1347595e+02, 1.3686781e+02,\n",
       "               5.3632379e-02]], dtype=float32)                            ,\n",
       "       array([], shape=(0, 5), dtype=float32)], dtype=object)"
      ]
     },
     "execution_count": 9,
     "metadata": {},
     "output_type": "execute_result"
    }
   ],
   "source": [
    "results[0]"
   ]
  },
  {
   "cell_type": "markdown",
   "metadata": {},
   "source": [
    "# 2. Call cleanvision object_detection functionality"
   ]
  },
  {
   "cell_type": "markdown",
   "metadata": {},
   "source": [
    "**get_label_quality_scores()**"
   ]
  },
  {
   "cell_type": "code",
   "execution_count": 11,
   "metadata": {},
   "outputs": [
    {
     "data": {
      "text/plain": [
       "array([0.6666667 , 0.23333334, 0.76666667, 0.9       , 0.525     ,\n",
       "       0.67777779, 0.59769064, 0.9       , 0.76      , 0.7       ,\n",
       "       0.9       , 0.14416667, 0.9       , 0.63333334, 0.8       ,\n",
       "       0.9       , 0.59166668, 0.9       , 1.        , 0.175     ])"
      ]
     },
     "execution_count": 11,
     "metadata": {},
     "output_type": "execute_result"
    }
   ],
   "source": [
    "scores = get_label_quality_scores(annotations, results)\n",
    "scores"
   ]
  },
  {
   "cell_type": "markdown",
   "metadata": {},
   "source": [
    "**issues_from_scores()** returns an array of issue indices sorted from most to least severe who's label quality scores fall below the threshold if one is provided."
   ]
  },
  {
   "cell_type": "code",
   "execution_count": 12,
   "metadata": {},
   "outputs": [
    {
     "data": {
      "text/plain": [
       "array([11, 19,  1,  4, 16,  6, 13,  0,  5,  9,  8,  2, 14, 17, 10, 12,  3,\n",
       "       15,  7])"
      ]
     },
     "execution_count": 12,
     "metadata": {},
     "output_type": "execute_result"
    }
   ],
   "source": [
    "issue_idx = issues_from_scores(scores, threshold=1.0)\n",
    "issue_idx"
   ]
  },
  {
   "cell_type": "code",
   "execution_count": 13,
   "metadata": {},
   "outputs": [
    {
     "data": {
      "text/plain": [
       "array([0.14416667, 0.175     , 0.23333334, 0.525     , 0.59166668,\n",
       "       0.59769064, 0.63333334, 0.6666667 , 0.67777779, 0.7       ,\n",
       "       0.76      , 0.76666667, 0.8       , 0.9       , 0.9       ,\n",
       "       0.9       , 0.9       , 0.9       , 0.9       ])"
      ]
     },
     "execution_count": 13,
     "metadata": {},
     "output_type": "execute_result"
    }
   ],
   "source": [
    "scores[issue_idx]"
   ]
  },
  {
   "cell_type": "code",
   "execution_count": 14,
   "metadata": {},
   "outputs": [
    {
     "data": {
      "text/plain": [
       "array([0.14416667, 0.175     , 0.23333334])"
      ]
     },
     "execution_count": 14,
     "metadata": {},
     "output_type": "execute_result"
    }
   ],
   "source": [
    "issue_idx_threshold = issues_from_scores(scores, threshold=0.5)\n",
    "scores[issue_idx_threshold]"
   ]
  },
  {
   "cell_type": "markdown",
   "metadata": {},
   "source": [
    "# 3. Visualize Dataset [todo]"
   ]
  },
  {
   "cell_type": "code",
   "execution_count": 15,
   "metadata": {},
   "outputs": [],
   "source": [
    "def get_bbox_labels_annotation(annotation):\n",
    "    bboxes = annotation['bboxes']\n",
    "    labels = annotation['labels']\n",
    "    return bboxes, labels"
   ]
  },
  {
   "cell_type": "code",
   "execution_count": 21,
   "metadata": {},
   "outputs": [
    {
     "data": {
      "text/plain": [
       "([[135.0111846923828,\n",
       "   235.42771911621094,\n",
       "   242.79428100585938,\n",
       "   280.32366943359375],\n",
       "  [277.1637878417969, 370.20465087890625, 333.0068664550781, 426.349853515625],\n",
       "  [618.571533203125, 345.5187683105469, 639.2235107421875, 426.45062255859375],\n",
       "  [136.02586364746094,\n",
       "   249.19717407226562,\n",
       "   152.12564086914062,\n",
       "   274.0179748535156],\n",
       "  [135.01132202148438,\n",
       "   247.7019805908203,\n",
       "   193.2862091064453,\n",
       "   273.1231994628906],\n",
       "  [136.58010864257812,\n",
       "   248.4277801513672,\n",
       "   165.57943725585938,\n",
       "   273.11761474609375],\n",
       "  [247.92007446289062,\n",
       "   341.29888916015625,\n",
       "   308.505126953125,\n",
       "   425.9822998046875],\n",
       "  [157.1444549560547,\n",
       "   113.9198226928711,\n",
       "   173.25619506835938,\n",
       "   129.3312225341797],\n",
       "  [144.4327850341797,\n",
       "   269.5027160644531,\n",
       "   172.97482299804688,\n",
       "   303.3676452636719],\n",
       "  [121.24999237060547,\n",
       "   274.1449890136719,\n",
       "   144.4534454345703,\n",
       "   306.2079162597656],\n",
       "  [249.43724060058594,\n",
       "   340.5382995605469,\n",
       "   300.78924560546875,\n",
       "   425.4017333984375],\n",
       "  [155.64825439453125,\n",
       "   168.8175506591797,\n",
       "   182.3638153076172,\n",
       "   184.54774475097656],\n",
       "  [322.21875, 60.96984100341797, 337.2433166503906, 78.2511215209961],\n",
       "  [358.43182373046875,\n",
       "   63.370994567871094,\n",
       "   382.2900695800781,\n",
       "   87.49519348144531],\n",
       "  [61.76285171508789,\n",
       "   32.82889175415039,\n",
       "   123.15939331054688,\n",
       "   135.4698486328125],\n",
       "  [337.75048828125, 60.750125885009766, 356.24761962890625, 78.51593017578125],\n",
       "  [203.80506896972656,\n",
       "   131.0032196044922,\n",
       "   258.5928649902344,\n",
       "   193.7532196044922],\n",
       "  [326.3213806152344, 164.40478515625, 358.2412109375, 205.04180908203125],\n",
       "  [121.43751525878906, 273.0732116699219, 138.85797119140625, 296.033203125],\n",
       "  [30.62946319580078, 341.9601745605469, 99.49861907958984, 385.207275390625],\n",
       "  [346.6478271484375,\n",
       "   83.46684265136719,\n",
       "   369.7308044433594,\n",
       "   108.14727020263672],\n",
       "  [216.16236877441406, 261.509765625, 256.0743103027344, 298.203857421875],\n",
       "  [88.99530792236328, 5.22441291809082, 139.1343536376953, 68.34683990478516],\n",
       "  [253.88253784179688,\n",
       "   116.3871078491211,\n",
       "   293.6241149902344,\n",
       "   159.5457000732422],\n",
       "  [135.49429321289062,\n",
       "   276.3951110839844,\n",
       "   148.7957000732422,\n",
       "   304.1163635253906],\n",
       "  [387.2778015136719, 68.69986724853516, 499.8327941894531, 345.1176452636719],\n",
       "  [0.0, 261.7266845703125, 63.42108917236328, 305.3047180175781],\n",
       "  [464.8470764160156,\n",
       "   87.13990020751953,\n",
       "   513.4759521484375,\n",
       "   136.86781311035156]],\n",
       " [1,\n",
       "  1,\n",
       "  1,\n",
       "  1,\n",
       "  1,\n",
       "  1,\n",
       "  1,\n",
       "  2,\n",
       "  2,\n",
       "  2,\n",
       "  2,\n",
       "  2,\n",
       "  2,\n",
       "  2,\n",
       "  2,\n",
       "  2,\n",
       "  2,\n",
       "  2,\n",
       "  2,\n",
       "  2,\n",
       "  2,\n",
       "  2,\n",
       "  2,\n",
       "  2,\n",
       "  2,\n",
       "  3,\n",
       "  3,\n",
       "  3],\n",
       " [0.44206613302230835,\n",
       "  0.21322378516197205,\n",
       "  0.10588002949953079,\n",
       "  0.09568538516759872,\n",
       "  0.086356520652771,\n",
       "  0.07479092478752136,\n",
       "  0.05376281589269638,\n",
       "  0.741836667060852,\n",
       "  0.6903858184814453,\n",
       "  0.5258364677429199,\n",
       "  0.44239604473114014,\n",
       "  0.390821248292923,\n",
       "  0.23007632791996002,\n",
       "  0.16150730848312378,\n",
       "  0.1201058030128479,\n",
       "  0.10670219361782074,\n",
       "  0.09640435874462128,\n",
       "  0.08977627009153366,\n",
       "  0.07947032153606415,\n",
       "  0.07658587396144867,\n",
       "  0.06902069598436356,\n",
       "  0.06767985224723816,\n",
       "  0.06733480095863342,\n",
       "  0.0650160163640976,\n",
       "  0.058790504932403564,\n",
       "  0.9995905756950378,\n",
       "  0.8934469223022461,\n",
       "  0.053632378578186035])"
      ]
     },
     "execution_count": 21,
     "metadata": {},
     "output_type": "execute_result"
    }
   ],
   "source": [
    "def get_bbox_labels_result(result):\n",
    "    labels = []\n",
    "    boxes = []\n",
    "    for idx, result_class in enumerate(result):\n",
    "        labels.extend([idx] * len(result_class))\n",
    "        boxes.extend(result_class.tolist())\n",
    "    bboxes = [box[:4] for box in boxes]\n",
    "    pred_probs = [box[-1] for box in boxes]\n",
    "    return bboxes, labels, pred_probs"
   ]
  },
  {
   "cell_type": "code",
   "execution_count": null,
   "metadata": {},
   "outputs": [],
   "source": [
    "def draw_boxes(fig, ax, data, edgecolor='g', linestyle='-', linewidth=1):\n",
    "    data = [[label] + bbox_xyxy_to_xywh([x1,y1,x2,y2]) for label,x1,y1,x2,y2 in data] #bbox_xyxy_to_xywh\n",
    "    for label,x,y,w,h in data:\n",
    "        # Create a Rectangle patch for gt\n",
    "        rect = Rectangle((x, y), w, h, linewidth=linewidth, linestyle=linestyle, edgecolor=edgecolor, facecolor='none')\n",
    "        ax.add_patch(rect)\n",
    "\n",
    "        rx, ry = rect.get_xy()\n",
    "        c_xleft = rx + 10\n",
    "        c_xright = rx + rect.get_width() - 10\n",
    "        c_ytop = ry + 10\n",
    "        c_ybottom = ry + rect.get_height() - 10\n",
    "\n",
    "        if edgecolor == 'r':\n",
    "            cx, cy = c_xright, c_ytop\n",
    "        elif edgecolor == 'b':\n",
    "            cx, cy = c_xleft, c_ytop\n",
    "        else:\n",
    "            cx, cy = c_xleft, c_ybottom\n",
    "\n",
    "        l = ax.annotate(\n",
    "            label,\n",
    "            (cx, cy),\n",
    "            fontsize=5,\n",
    "            fontweight=\"bold\",\n",
    "            color='white',\n",
    "            ha='center',\n",
    "            va='center'\n",
    "        )\n",
    "#         l.set_bbox(\n",
    "#             dict(\n",
    "#                 facecolor=edgecolor, \n",
    "#                 alpha=0.35, \n",
    "#                 edgecolor=edgecolor\n",
    "#             )\n",
    "#         )\n",
    "        \n",
    "    return fig, ax\n",
    "\n",
    "def viz(image_id, rgb_path, labels_path, class_dict, show_modified_labels=False):\n",
    "    # Create figure and axes\n",
    "    image = plt.imread(f'{rgb_path}{image_id}.png')\n",
    "    labels = get_labels(image_id, labels_path, class_dict)\n",
    "\n",
    "    fig, ax = plt.subplots(frameon=False)\n",
    "    plt.axis('off')\n",
    "    ax.imshow(image)\n",
    "\n",
    "    fig, ax = draw_boxes(fig, ax, labels, edgecolor='r', linestyle='-', linewidth=2)\n",
    "    if show_modified_labels:\n",
    "        modified_labels = get_labels(image_id, modified_labels_path, class_dict)\n",
    "        fig, ax = draw_boxes(fig, ax, modified_labels, edgecolor='b', linestyle='--', linewidth=1)\n",
    "\n",
    "    plt.show()"
   ]
  },
  {
   "cell_type": "code",
   "execution_count": 39,
   "metadata": {},
   "outputs": [],
   "source": [
    "def draw_boxes(fig, ax, bboxes, labels, edgecolor='g', linestyle='-', linewidth=3):\n",
    "    for (x,y,w,h),label in zip(bboxes,labels):\n",
    "#         print('drawing box: ',x,y,w,h,label)\n",
    "        # Create a Rectangle patch for gt\n",
    "        rect = Rectangle((x, y), w, h, linewidth=linewidth, linestyle=linestyle, edgecolor=edgecolor, facecolor='none')\n",
    "        ax.add_patch(rect)\n",
    "        \n",
    "        if labels is not None:\n",
    "            \n",
    "            rx, ry = rect.get_xy()\n",
    "            c_xleft = rx + 10\n",
    "            c_xright = rx + rect.get_width() - 10\n",
    "            c_ytop = ry + 10\n",
    "            c_ybottom = ry + rect.get_height() - 10\n",
    "            \n",
    "            if edgecolor == 'r':\n",
    "                cx, cy = c_xright, c_ytop\n",
    "            elif edgecolor == 'b':\n",
    "                cx, cy = c_xleft, c_ytop\n",
    "            else:\n",
    "                cx, cy = c_xleft, c_ybottom\n",
    "\n",
    "            l = ax.annotate(\n",
    "                label,\n",
    "                (cx, cy),\n",
    "                fontsize=8,\n",
    "                fontweight=\"bold\",\n",
    "                color='white',\n",
    "                ha='center',\n",
    "                va='center'\n",
    "            )\n",
    "            l.set_bbox(\n",
    "                dict(\n",
    "                    facecolor=edgecolor, \n",
    "                    alpha=0.35, \n",
    "                    edgecolor=edgecolor\n",
    "                )\n",
    "            )\n",
    "        \n",
    "    return fig, ax"
   ]
  },
  {
   "cell_type": "code",
   "execution_count": null,
   "metadata": {},
   "outputs": [],
   "source": [
    "nviz = 1000\n",
    "\n",
    "def viz(x):\n",
    "    gt_source = x['true_label']\n",
    "    imagename = x['filename']\n",
    "    image_id = x['filename_id']\n",
    "    c_diff_score = x['c_diff_score']\n",
    "    c_diff_min = x['c_diff_min']\n",
    "    bs_mAP = x['bs_mAP']\n",
    "    bc_mAP = x['bc_mAP']\n",
    "    cs_mAP = x['cs_mAP']\n",
    "    is_error = x['is_error']\n",
    "    \n",
    "    \n",
    "    # Display the image\n",
    "    if image_id in cann.keys() and image_id in sann.keys() and image_id in bann.keys():\n",
    "        cboxes = cann[image_id]\n",
    "        sboxes = sann[image_id]\n",
    "        bboxes = bann[image_id]\n",
    "        \n",
    "        clabels = ccats[image_id]\n",
    "        slabels = scats[image_id]\n",
    "        blabels = bcats[image_id]\n",
    "\n",
    "        print(f'image name: {imagename} is_error:{is_error}\\nmin_score: {c_diff_min}\\navg_score: {c_diff_score}')\n",
    "        print(f'bs_mAP:{bs_mAP} cs_mAP:{cs_mAP} bc_mAP:{bc_mAP}\\nbs_score: {bs_mAP}')\n",
    "\n",
    "        # Create figure and axes\n",
    "        image = im.imread(f\"{imagepath}{imagename}\")\n",
    "\n",
    "        fig, ax = plt.subplots(frameon=False)\n",
    "        plt.axis('off')\n",
    "        ax.imshow(image)\n",
    "\n",
    "        fig, ax = draw_boxes(fig, ax, cboxes, clabels, edgecolor='r', linestyle='-', linewidth=2)\n",
    "        fig, ax = draw_boxes(fig, ax, sboxes, slabels, edgecolor='b', linestyle='--', linewidth=2)\n",
    "        fig, ax = draw_boxes(fig, ax, bboxes, blabels, edgecolor='g', linestyle='-.', linewidth=2)\n",
    "\n",
    "        plt.show()\n",
    "        print('-'*40)\n",
    "    \n",
    "mini_data = image_results[:nviz]\n",
    "mini_data.apply(lambda x: viz(x), axis=1)"
   ]
  },
  {
   "cell_type": "code",
   "execution_count": null,
   "metadata": {},
   "outputs": [],
   "source": [
    "def viz(result, annotation, image_path)"
   ]
  }
 ],
 "metadata": {
  "kernelspec": {
   "display_name": "Python 3 (ipykernel)",
   "language": "python",
   "name": "python3"
  },
  "language_info": {
   "codemirror_mode": {
    "name": "ipython",
    "version": 3
   },
   "file_extension": ".py",
   "mimetype": "text/x-python",
   "name": "python",
   "nbconvert_exporter": "python",
   "pygments_lexer": "ipython3",
   "version": "3.8.13"
  }
 },
 "nbformat": 4,
 "nbformat_minor": 4
}
