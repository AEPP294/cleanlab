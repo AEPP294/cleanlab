{
 "cells": [
  {
   "cell_type": "markdown",
   "metadata": {},
   "source": [
    "# Datalab: A unified audit to detect all kinds of issues in data and labels."
   ]
  },
  {
   "cell_type": "markdown",
   "metadata": {},
   "source": [
    "`Datalab` helps you identify various issues in your machine learning datasets, such as noisy labels, outliers, (near) duplicates, and other types of problems that commonly occur in real-world data that may negatively impact the performance of your machine learning model if not addressed. `Datalab` utilizes *any* ML model you have already trained for your data to diagnose these issues, it only requires access to either: (probabilistic) predictions from your model or its learned representations of the data.\n",
    "\n",
    "\n",
    "**Overview of what we'll do in this tutorial:**\n",
    "\n",
    "- Compute out-of-sample predicted probabilities for a sample dataset using cross-validation.\n",
    "- Use `Datalab` to identify issues such as noisy labels, outliers, (near) duplicates, and other types of problems \n",
    "- View the issue summaries and other information about our sample dataset\n",
    "\n",
    "You can easily replace our demo dataset with your own image/text/tabular/audio/etc dataset, and then run the same code to discover what sort of issues lurk within it!"
   ]
  },
  {
   "cell_type": "markdown",
   "metadata": {},
   "source": [
    "<div class=\"alert alert-info\">\n",
    "Quickstart\n",
    "<br/>\n",
    "    \n",
    "Already have (out-of-sample) `pred_probs` from a model trained on an existing set of labels? Maybe you have some `features` as well? Run the code below to examine your dataset for multiple types of issues.\n",
    "\n",
    "<div  class=markdown markdown=\"1\" style=\"background:white;margin:16px\">  \n",
    "    \n",
    "```ipython3 \n",
    "from cleanlab import Datalab\n",
    "\n",
    "lab = Datalab(data=your_dataset, label_name=\"column_name_of_labels\")\n",
    "\n",
    "lab.find_issues(features=your_feature_matrix, pred_probs=your_pred_probs)\n",
    "\n",
    "lab.report()\n",
    "```\n",
    "   \n",
    "</div>\n",
    "</div>"
   ]
  },
  {
   "cell_type": "markdown",
   "metadata": {},
   "source": [
    "## 1. Install and import required dependencies"
   ]
  },
  {
   "cell_type": "markdown",
   "metadata": {},
   "source": [
    "`Datalab` has additional dependencies that are not included in the standard installation of cleanlab.\n",
    "\n",
    "You can use pip to install all packages required for this tutorial as follows:\n",
    "\n",
    "```\n",
    "!pip install matplotlib \n",
    "!pip install cleanlab[datalab]\n",
    "\n",
    "# Make sure to install the version corresponding to this tutorial\n",
    "# E.g. if viewing master branch documentation:\n",
    "#     !pip install git+https://github.com/cleanlab/cleanlab.git\n",
    "```"
   ]
  },
  {
   "cell_type": "code",
   "execution_count": 1,
   "metadata": {
    "nbsphinx": "hidden"
   },
   "outputs": [],
   "source": [
    "# Package installation (hidden on docs website).\n",
    "dependencies = [\"cleanlab\", \"matplotlib\", \"datasets\"]  # TODO: make sure this list is updated\n",
    "\n",
    "if \"google.colab\" in str(get_ipython()):  # Check if it's running in Google Colab\n",
    "    %pip install cleanlab  # for colab\n",
    "    cmd = ' '.join([dep for dep in dependencies if dep != \"cleanlab\"])\n",
    "    %pip install $cmd\n",
    "else:\n",
    "    missing_dependencies = []\n",
    "    for dependency in dependencies:\n",
    "        try:\n",
    "            __import__(dependency)\n",
    "        except ImportError:\n",
    "            missing_dependencies.append(dependency)\n",
    "\n",
    "    if len(missing_dependencies) > 0:\n",
    "        print(\"Missing required dependencies:\")\n",
    "        print(*missing_dependencies, sep=\", \")\n",
    "        print(\"\\nPlease install them before running the rest of this notebook.\")"
   ]
  },
  {
   "cell_type": "code",
   "execution_count": 2,
   "metadata": {},
   "outputs": [],
   "source": [
    "# TODO: remove cell before merging to master\n",
    "# !pip install git+https://github.com/cleanlab/cleanlab.git#egg=cleanlab[datalab]"
   ]
  },
  {
   "cell_type": "code",
   "execution_count": 3,
   "metadata": {},
   "outputs": [],
   "source": [
    "import numpy as np\n",
    "import pandas as pd\n",
    "from sklearn.linear_model import LogisticRegression\n",
    "from sklearn.model_selection import cross_val_predict\n",
    "\n",
    "from cleanlab import Datalab"
   ]
  },
  {
   "cell_type": "markdown",
   "metadata": {},
   "source": [
    "## 2. Create and load the data (can skip these details)"
   ]
  },
  {
   "cell_type": "markdown",
   "metadata": {},
   "source": [
    "We'll load a toy classification dataset for this tutorial. The dataset has two numerical features and a label column with three classes."
   ]
  },
  {
   "cell_type": "markdown",
   "metadata": {},
   "source": [
    "<details><summary>See the code for data generation. **(click to expand)**</summary>\n",
    "    \n",
    "```ipython3\n",
    "# Note: This pulldown content is for docs.cleanlab.ai, if running on local Jupyter or Colab, please ignore it.\n",
    "\n",
    "SEED = 123\n",
    "np.random.seed(SEED)\n",
    "\n",
    "BINS = {\n",
    "    \"low\": [-np.inf, 3.3],\n",
    "    \"mid\": [3.3, 6.6],\n",
    "    \"high\": [6.6, +np.inf],\n",
    "}\n",
    "\n",
    "BINS_MAP = {\n",
    "    \"low\": 0,\n",
    "    \"mid\": 1,\n",
    "    \"high\": 2,\n",
    "}\n",
    "\n",
    "\n",
    "def create_data():\n",
    "\n",
    "    X = np.random.rand(250, 2) * 5\n",
    "    y = np.sum(X, axis=1)\n",
    "    # Map y to bins based on the BINS dict\n",
    "    y_bin = np.array([k for y_i in y for k, v in BINS.items() if v[0] <= y_i < v[1]])\n",
    "    y_bin_idx = np.array([BINS_MAP[k] for k in y_bin])\n",
    "\n",
    "    # Split into train and test\n",
    "    X_train, X_test, y_train, y_test, y_train_idx, y_test_idx = train_test_split(\n",
    "        X, y_bin, y_bin_idx, test_size=0.5, random_state=SEED\n",
    "    )\n",
    "\n",
    "    # Add several (5) out-of-distribution points. Sliding them along the decision boundaries\n",
    "    # to make them look like they are out-of-frame\n",
    "    X_out = np.array(\n",
    "        [\n",
    "            [-1.5, 3.0],\n",
    "            [-1.75, 6.5],\n",
    "            [1.5, 7.2],\n",
    "            [2.5, -2.0],\n",
    "            [5.5, 7.0],\n",
    "        ]\n",
    "    )\n",
    "    # Add a near duplicate point to the last outlier, with some tiny noise added\n",
    "    near_duplicate = X_out[-1:] + np.random.rand(1, 2) * 1e-6\n",
    "    X_out = np.concatenate([X_out, near_duplicate])\n",
    "\n",
    "    y_out = np.sum(X_out, axis=1)\n",
    "    y_out_bin = np.array([k for y_i in y_out for k, v in BINS.items() if v[0] <= y_i < v[1]])\n",
    "    y_out_bin_idx = np.array([BINS_MAP[k] for k in y_out_bin])\n",
    "\n",
    "    # Add to train\n",
    "    X_train = np.concatenate([X_train, X_out])\n",
    "    y_train = np.concatenate([y_train, y_out])\n",
    "    y_train_idx = np.concatenate([y_train_idx, y_out_bin_idx])\n",
    "\n",
    "    # Add an exact duplicate example to the training set\n",
    "    exact_duplicate_idx = np.random.randint(0, len(X_train))\n",
    "    X_duplicate = X_train[exact_duplicate_idx, None]\n",
    "    y_duplicate = y_train[exact_duplicate_idx, None]\n",
    "    y_duplicate_idx = y_train_idx[exact_duplicate_idx, None]\n",
    "\n",
    "    # Add to train\n",
    "    X_train = np.concatenate([X_train, X_duplicate])\n",
    "    y_train = np.concatenate([y_train, y_duplicate])\n",
    "    y_train_idx = np.concatenate([y_train_idx, y_duplicate_idx])\n",
    "\n",
    "    py = np.bincount(y_train_idx) / float(len(y_train_idx))\n",
    "    m = len(BINS)\n",
    "\n",
    "    noise_matrix = generate_noise_matrix_from_trace(\n",
    "        m,\n",
    "        trace=0.9 * m,\n",
    "        py=py,\n",
    "        valid_noise_matrix=True,\n",
    "        seed=SEED,\n",
    "    )\n",
    "\n",
    "    noisy_labels_idx = generate_noisy_labels(y_train_idx, noise_matrix)\n",
    "\n",
    "    # TODO: Add noise to test set when we support extra splits in Datalab\n",
    "\n",
    "    noisy_labels = np.array([list(BINS_MAP.keys())[i] for i in noisy_labels_idx])\n",
    "\n",
    "    return X_train, y_train_idx, noisy_labels, noisy_labels_idx, X_out, X_duplicate\n",
    "```\n",
    "\n",
    "</details>"
   ]
  },
  {
   "cell_type": "code",
   "execution_count": 4,
   "metadata": {
    "nbsphinx": "hidden"
   },
   "outputs": [],
   "source": [
    "from sklearn.model_selection import train_test_split\n",
    "\n",
    "from cleanlab.benchmarking.noise_generation import (\n",
    "    generate_noise_matrix_from_trace,\n",
    "    generate_noisy_labels,\n",
    ")\n",
    "\n",
    "SEED = 123\n",
    "np.random.seed(SEED)\n",
    "\n",
    "BINS = {\n",
    "    \"low\": [-np.inf, 3.3],\n",
    "    \"mid\": [3.3, 6.6],\n",
    "    \"high\": [6.6, +np.inf],\n",
    "}\n",
    "\n",
    "BINS_MAP = {\n",
    "    \"low\": 0,\n",
    "    \"mid\": 1,\n",
    "    \"high\": 2,\n",
    "}\n",
    "\n",
    "\n",
    "def create_data():\n",
    "\n",
    "    X = np.random.rand(250, 2) * 5\n",
    "    y = np.sum(X, axis=1)\n",
    "    # Map y to bins based on the BINS dict\n",
    "    y_bin = np.array([k for y_i in y for k, v in BINS.items() if v[0] <= y_i < v[1]])\n",
    "    y_bin_idx = np.array([BINS_MAP[k] for k in y_bin])\n",
    "\n",
    "    # Split into train and test\n",
    "    X_train, X_test, y_train, y_test, y_train_idx, y_test_idx = train_test_split(\n",
    "        X, y_bin, y_bin_idx, test_size=0.5, random_state=SEED\n",
    "    )\n",
    "\n",
    "    # Add several (5) out-of-distribution points. Sliding them along the decision boundaries\n",
    "    # to make them look like they are out-of-frame\n",
    "    X_out = np.array(\n",
    "        [\n",
    "            [-1.5, 3.0],\n",
    "            [-1.75, 6.5],\n",
    "            [1.5, 7.2],\n",
    "            [2.5, -2.0],\n",
    "            [5.5, 7.0],\n",
    "        ]\n",
    "    )\n",
    "    # Add a near duplicate point to the last outlier, with some tiny noise added\n",
    "    near_duplicate = X_out[-1:] + np.random.rand(1, 2) * 1e-6\n",
    "    X_out = np.concatenate([X_out, near_duplicate])\n",
    "\n",
    "    y_out = np.sum(X_out, axis=1)\n",
    "    y_out_bin = np.array([k for y_i in y_out for k, v in BINS.items() if v[0] <= y_i < v[1]])\n",
    "    y_out_bin_idx = np.array([BINS_MAP[k] for k in y_out_bin])\n",
    "\n",
    "    # Add to train\n",
    "    X_train = np.concatenate([X_train, X_out])\n",
    "    y_train = np.concatenate([y_train, y_out])\n",
    "    y_train_idx = np.concatenate([y_train_idx, y_out_bin_idx])\n",
    "\n",
    "    # Add an exact duplicate example to the training set\n",
    "    exact_duplicate_idx = np.random.randint(0, len(X_train))\n",
    "    X_duplicate = X_train[exact_duplicate_idx, None]\n",
    "    y_duplicate = y_train[exact_duplicate_idx, None]\n",
    "    y_duplicate_idx = y_train_idx[exact_duplicate_idx, None]\n",
    "\n",
    "    # Add to train\n",
    "    X_train = np.concatenate([X_train, X_duplicate])\n",
    "    y_train = np.concatenate([y_train, y_duplicate])\n",
    "    y_train_idx = np.concatenate([y_train_idx, y_duplicate_idx])\n",
    "\n",
    "    py = np.bincount(y_train_idx) / float(len(y_train_idx))\n",
    "    m = len(BINS)\n",
    "\n",
    "    noise_matrix = generate_noise_matrix_from_trace(\n",
    "        m,\n",
    "        trace=0.9 * m,\n",
    "        py=py,\n",
    "        valid_noise_matrix=True,\n",
    "        seed=SEED,\n",
    "    )\n",
    "\n",
    "    noisy_labels_idx = generate_noisy_labels(y_train_idx, noise_matrix)\n",
    "\n",
    "    # TODO: Add noise to test set when we support extra splits in Datalab\n",
    "\n",
    "    noisy_labels = np.array([list(BINS_MAP.keys())[i] for i in noisy_labels_idx])\n",
    "\n",
    "    return X_train, y_train_idx, noisy_labels, noisy_labels_idx, X_out, X_duplicate\n"
   ]
  },
  {
   "cell_type": "code",
   "execution_count": 5,
   "metadata": {},
   "outputs": [],
   "source": [
    "X_train, y_train_idx, noisy_labels, noisy_labels_idx, X_out, X_duplicate = create_data()"
   ]
  },
  {
   "cell_type": "markdown",
   "metadata": {},
   "source": [
    "We make a scatter plot of the features, with a color corresponding to the observed labels. Incorrect given labels are highlighted in red if they do not match the true label, outliers highlighted with an a black cross, and duplicates highlighted with a cyan cross."
   ]
  },
  {
   "cell_type": "markdown",
   "metadata": {},
   "source": [
    "<details><summary>See the code to visualize the data. **(click to expand)**</summary>\n",
    "    \n",
    "```ipython3\n",
    "# Note: This pulldown content is for docs.cleanlab.ai, if running on local Jupyter or Colab, please ignore it.\n",
    "\n",
    "import matplotlib.pyplot as plt\n",
    "\n",
    "def plot_data(X_train, y_train_idx, noisy_labels_idx, X_out, X_duplicate):\n",
    "    # Plot data with clean labels and noisy labels, use BINS_MAP for the legend\n",
    "    fig, ax = plt.subplots(figsize=(8, 6))\n",
    "    for k, v in BINS_MAP.items():\n",
    "        ax.scatter(X_train[noisy_labels_idx == v, 0], X_train[noisy_labels_idx == v, 1], label=k)\n",
    "    ax.set_title(\"Noisy labels\")\n",
    "    ax.set_xlabel(r\"$x_1$\")\n",
    "    ax.set_ylabel(r\"$x_2$\")\n",
    "\n",
    "    # Plot true boundaries (x+y=3.3, x+y=6.6)\n",
    "    ax.set_xlim(-3.5, 8.5)\n",
    "    ax.set_ylim(-3.5, 8.5)\n",
    "    ax.plot([-0.7, 4.0], [4.0, -0.7], color=\"k\", linestyle=\"--\", alpha=0.5)\n",
    "    ax.plot([-0.7, 7.3], [7.3, -0.7], color=\"k\", linestyle=\"--\", alpha=0.5)\n",
    "\n",
    "    # Draw red circles around the points that are misclassified (i.e. the points that are in the wrong bin)\n",
    "    for i, (X, y) in enumerate(zip([X_train, X_train], [y_train_idx, noisy_labels_idx])):\n",
    "        for j, (k, v) in enumerate(BINS_MAP.items()):\n",
    "            ax.plot(\n",
    "                X[(y == v) & (y != y_train_idx), 0],\n",
    "                X[(y == v) & (y != y_train_idx), 1],\n",
    "                \"o\",\n",
    "                markerfacecolor=\"none\",\n",
    "                markeredgecolor=\"red\",\n",
    "                markersize=14,\n",
    "                markeredgewidth=2.5,\n",
    "                alpha=0.5,\n",
    "                **{\"label\": \"Label error\" if i == 1 and j == 0 else None}\n",
    "            )\n",
    "\n",
    "    ax.scatter(X_out[:, 0], X_out[:, 1], color=\"k\", marker=\"x\", s=100, linewidth=2, label=\"Outlier\")\n",
    "\n",
    "    # Plot the exact duplicate\n",
    "    ax.scatter(\n",
    "        X_duplicate[:, 0],\n",
    "        X_duplicate[:, 1],\n",
    "        color=\"c\",\n",
    "        marker=\"x\",\n",
    "        s=100,\n",
    "        linewidth=2,\n",
    "        label=\"Exact Duplicate\",\n",
    "    )\n",
    "    ax.legend()\n",
    "    plt.tight_layout()\n",
    "```\n",
    "    \n",
    "</details>"
   ]
  },
  {
   "cell_type": "code",
   "execution_count": 6,
   "metadata": {
    "nbsphinx": "hidden"
   },
   "outputs": [],
   "source": [
    "import matplotlib.pyplot as plt\n",
    "\n",
    "def plot_data(X_train, y_train_idx, noisy_labels_idx, X_out, X_duplicate):\n",
    "    # Plot data with clean labels and noisy labels, use BINS_MAP for the legend\n",
    "    fig, ax = plt.subplots(figsize=(8, 6))\n",
    "    for k, v in BINS_MAP.items():\n",
    "        ax.scatter(X_train[noisy_labels_idx == v, 0], X_train[noisy_labels_idx == v, 1], label=k)\n",
    "    ax.set_title(\"Noisy labels\")\n",
    "    ax.set_xlabel(r\"$x_1$\")\n",
    "    ax.set_ylabel(r\"$x_2$\")\n",
    "\n",
    "    # Plot true boundaries (x+y=3.3, x+y=6.6)\n",
    "    ax.set_xlim(-3.5, 8.5)\n",
    "    ax.set_ylim(-3.5, 8.5)\n",
    "    ax.plot([-0.7, 4.0], [4.0, -0.7], color=\"k\", linestyle=\"--\", alpha=0.5)\n",
    "    ax.plot([-0.7, 7.3], [7.3, -0.7], color=\"k\", linestyle=\"--\", alpha=0.5)\n",
    "\n",
    "    # Draw red circles around the points that are misclassified (i.e. the points that are in the wrong bin)\n",
    "    for i, (X, y) in enumerate(zip([X_train, X_train], [y_train_idx, noisy_labels_idx])):\n",
    "        for j, (k, v) in enumerate(BINS_MAP.items()):\n",
    "            ax.plot(\n",
    "                X[(y == v) & (y != y_train_idx), 0],\n",
    "                X[(y == v) & (y != y_train_idx), 1],\n",
    "                \"o\",\n",
    "                markerfacecolor=\"none\",\n",
    "                markeredgecolor=\"red\",\n",
    "                markersize=14,\n",
    "                markeredgewidth=2.5,\n",
    "                alpha=0.5,\n",
    "                **{\"label\": \"Label error\" if i == 1 and j == 0 else None}\n",
    "            )\n",
    "\n",
    "    ax.scatter(X_out[:, 0], X_out[:, 1], color=\"k\", marker=\"x\", s=100, linewidth=2, label=\"Outlier\")\n",
    "\n",
    "    # Plot the exact duplicate\n",
    "    ax.scatter(\n",
    "        X_duplicate[:, 0],\n",
    "        X_duplicate[:, 1],\n",
    "        color=\"c\",\n",
    "        marker=\"x\",\n",
    "        s=100,\n",
    "        linewidth=2,\n",
    "        label=\"Exact Duplicate\",\n",
    "    )\n",
    "    ax.legend()\n",
    "    plt.tight_layout()"
   ]
  },
  {
   "cell_type": "code",
   "execution_count": 7,
   "metadata": {},
   "outputs": [
    {
     "data": {
      "image/png": "[encoded data removed]",
      "text/plain": [
       "<Figure size 800x600 with 1 Axes>"
      ]
     },
     "metadata": {},
     "output_type": "display_data"
    }
   ],
   "source": [
    "plot_data(X_train, y_train_idx, noisy_labels_idx, X_out, X_duplicate)"
   ]
  },
  {
   "cell_type": "markdown",
   "metadata": {},
   "source": [
    "In real-world scenarios, you won't know the true labels or the distribution of the features, so we won't use these in this tutorial, except for evaluation purposes.\n",
    "\n",
    "\n",
    "\n",
    "`Datalab` has several ways of loading the data.\n",
    "In this case, we'll simply wrap the training features and noisy labels in a dictionary so that we can pass it to `Datalab`."
   ]
  },
  {
   "cell_type": "code",
   "execution_count": 8,
   "metadata": {},
   "outputs": [],
   "source": [
    "data = {\"X\": X_train, \"y\": noisy_labels}"
   ]
  },
  {
   "cell_type": "markdown",
   "metadata": {},
   "source": [
    "Other supported data formats for `Datalab` include: [pandas DataFrame](https://pandas.pydata.org/docs/reference/api/pandas.DataFrame.html) and [HuggingFace Datasets](https://huggingface.co/docs/datasets/index). `Datalab` works across most data modalities (image, text, tabular, audio, etc). It is intended to find issues that commonly occur in datasets for which you have trained a supervised ML model, regardless of the type of data."
   ]
  },
  {
   "cell_type": "markdown",
   "metadata": {},
   "source": [
    "## 3. Get out-of-sample predicted probabilities from a classifier"
   ]
  },
  {
   "cell_type": "markdown",
   "metadata": {},
   "source": [
    "To detect certain types of issues in classification data (e.g. label errors), `Datalab` relies on predicted class probabilities from a trained model. Ideally, the prediction for each example should be out-of-sample (to avoid overfitting), coming from a copy of the model that was not trained on this example. \n",
    "\n",
    "This tutorial uses a simple logistic regression model \n",
    "and the `cross_val_predict()` function from scikit-learn to generate out-of-sample predicted class probabilities for every example in the training set. You can replace this with *any* other classifier model and train it with cross-validation to get out-of-sample predictions."
   ]
  },
  {
   "cell_type": "code",
   "execution_count": 9,
   "metadata": {},
   "outputs": [],
   "source": [
    "model = LogisticRegression()\n",
    "pred_probs = cross_val_predict(\n",
    "    estimator=model, X=data[\"X\"], y=data[\"y\"], cv=5, method=\"predict_proba\"\n",
    ")"
   ]
  },
  {
   "cell_type": "markdown",
   "metadata": {},
   "source": [
    "## 4. Use Datalab to find issues in the dataset"
   ]
  },
  {
   "cell_type": "markdown",
   "metadata": {},
   "source": [
    "We create a `Datalab` (you should only have one per dataset) and provide it with the data object and name of the label column in the data object (only classification datasets are supported for now).\n",
    "\n",
    "All that is need to audit your data is to call `find_issues()`. This method accepts various inputs like: predicted class probabilities, numeric feature representations of the data. The more information you provide here, the more thoroughly `Datalab` will audit your data! \n",
    "\n",
    "Note that `features` should be some numeric representation of each example, either obtained through preprocessing transformation of your raw data or embeddings from a (pre)trained model. In this case, our data is already entirely numeric so we just provide the features directly."
   ]
  },
  {
   "cell_type": "code",
   "execution_count": 10,
   "metadata": {},
   "outputs": [
    {
     "name": "stdout",
     "output_type": "stream",
     "text": [
      "Finding label issues ...\n",
      "--------------------------------------------------------\n",
      "|  Generating a Cleanlab Dataset Health Summary        |\n",
      "|   for your dataset with 132 examples and 3 classes.  |\n",
      "|  Note, Cleanlab is not a medical doctor... yet.      |\n",
      "--------------------------------------------------------\n",
      "\n",
      "Overall Class Quality and Noise across your dataset (below)\n",
      "------------------------------------------------------------ \n",
      "\n"
     ]
    },
    {
     "data": {
      "text/html": [
       "<div>\n",
       "<style scoped>\n",
       "    .dataframe tbody tr th:only-of-type {\n",
       "        vertical-align: middle;\n",
       "    }\n",
       "\n",
       "    .dataframe tbody tr th {\n",
       "        vertical-align: top;\n",
       "    }\n",
       "\n",
       "    .dataframe thead th {\n",
       "        text-align: right;\n",
       "    }\n",
       "</style>\n",
       "<table border=\"1\" class=\"dataframe\">\n",
       "  <thead>\n",
       "    <tr style=\"text-align: right;\">\n",
       "      <th></th>\n",
       "      <th>Class Name</th>\n",
       "      <th>Class Index</th>\n",
       "      <th>Label Issues</th>\n",
       "      <th>Inverse Label Issues</th>\n",
       "      <th>Label Noise</th>\n",
       "      <th>Inverse Label Noise</th>\n",
       "      <th>Label Quality Score</th>\n",
       "    </tr>\n",
       "  </thead>\n",
       "  <tbody>\n",
       "    <tr>\n",
       "      <th>0</th>\n",
       "      <td>high</td>\n",
       "      <td>0</td>\n",
       "      <td>6</td>\n",
       "      <td>1</td>\n",
       "      <td>0.206897</td>\n",
       "      <td>0.041667</td>\n",
       "      <td>0.793103</td>\n",
       "    </tr>\n",
       "    <tr>\n",
       "      <th>1</th>\n",
       "      <td>low</td>\n",
       "      <td>1</td>\n",
       "      <td>2</td>\n",
       "      <td>3</td>\n",
       "      <td>0.071429</td>\n",
       "      <td>0.103448</td>\n",
       "      <td>0.928571</td>\n",
       "    </tr>\n",
       "    <tr>\n",
       "      <th>2</th>\n",
       "      <td>mid</td>\n",
       "      <td>2</td>\n",
       "      <td>4</td>\n",
       "      <td>8</td>\n",
       "      <td>0.053333</td>\n",
       "      <td>0.101266</td>\n",
       "      <td>0.946667</td>\n",
       "    </tr>\n",
       "  </tbody>\n",
       "</table>\n",
       "</div>"
      ],
      "text/plain": [
       "  Class Name  Class Index  Label Issues  Inverse Label Issues  Label Noise  \\\n",
       "0       high            0             6                     1     0.206897   \n",
       "1        low            1             2                     3     0.071429   \n",
       "2        mid            2             4                     8     0.053333   \n",
       "\n",
       "   Inverse Label Noise  Label Quality Score  \n",
       "0             0.041667             0.793103  \n",
       "1             0.103448             0.928571  \n",
       "2             0.101266             0.946667  "
      ]
     },
     "metadata": {},
     "output_type": "display_data"
    },
    {
     "name": "stdout",
     "output_type": "stream",
     "text": [
      "\n",
      "Class Overlap. In some cases, you may want to merge classes in the top rows (below)\n",
      "-----------------------------------------------------------------------------------\n",
      "\n"
     ]
    },
    {
     "data": {
      "text/html": [
       "<div>\n",
       "<style scoped>\n",
       "    .dataframe tbody tr th:only-of-type {\n",
       "        vertical-align: middle;\n",
       "    }\n",
       "\n",
       "    .dataframe tbody tr th {\n",
       "        vertical-align: top;\n",
       "    }\n",
       "\n",
       "    .dataframe thead th {\n",
       "        text-align: right;\n",
       "    }\n",
       "</style>\n",
       "<table border=\"1\" class=\"dataframe\">\n",
       "  <thead>\n",
       "    <tr style=\"text-align: right;\">\n",
       "      <th></th>\n",
       "      <th>Class Name A</th>\n",
       "      <th>Class Name B</th>\n",
       "      <th>Class Index A</th>\n",
       "      <th>Class Index B</th>\n",
       "      <th>Num Overlapping Examples</th>\n",
       "      <th>Joint Probability</th>\n",
       "    </tr>\n",
       "  </thead>\n",
       "  <tbody>\n",
       "    <tr>\n",
       "      <th>0</th>\n",
       "      <td>high</td>\n",
       "      <td>mid</td>\n",
       "      <td>0</td>\n",
       "      <td>2</td>\n",
       "      <td>7</td>\n",
       "      <td>0.053030</td>\n",
       "    </tr>\n",
       "    <tr>\n",
       "      <th>1</th>\n",
       "      <td>low</td>\n",
       "      <td>mid</td>\n",
       "      <td>1</td>\n",
       "      <td>2</td>\n",
       "      <td>5</td>\n",
       "      <td>0.037879</td>\n",
       "    </tr>\n",
       "    <tr>\n",
       "      <th>2</th>\n",
       "      <td>high</td>\n",
       "      <td>low</td>\n",
       "      <td>0</td>\n",
       "      <td>1</td>\n",
       "      <td>0</td>\n",
       "      <td>0.000000</td>\n",
       "    </tr>\n",
       "  </tbody>\n",
       "</table>\n",
       "</div>"
      ],
      "text/plain": [
       "  Class Name A Class Name B  Class Index A  Class Index B  \\\n",
       "0         high          mid              0              2   \n",
       "1          low          mid              1              2   \n",
       "2         high          low              0              1   \n",
       "\n",
       "   Num Overlapping Examples  Joint Probability  \n",
       "0                         7           0.053030  \n",
       "1                         5           0.037879  \n",
       "2                         0           0.000000  "
      ]
     },
     "metadata": {},
     "output_type": "display_data"
    },
    {
     "name": "stdout",
     "output_type": "stream",
     "text": [
      "\n",
      " * Overall, about 9% (12 of the 132) labels in your dataset have potential issues.\n",
      " ** The overall label health score for this dataset is: 0.91.\n",
      "\n",
      "Generated with <3 from Cleanlab.\n",
      "\n",
      "Finding outlier issues ...\n",
      "Fitting OOD estimator based on provided features ...\n",
      "Finding near_duplicate issues ...\n",
      "Audit complete. 21 issues found in the dataset.\n"
     ]
    },
    {
     "name": "stderr",
     "output_type": "stream",
     "text": [
      "/Users/huiwengoh/Documents/Cleanlab/Code/branches/datalab/cleanlab/cleanlab/datalab/knn.py:77: UserWarning: n_neighbors 5 does not match n_neighbors 10 used to fit knn. Most likely an existing NearestNeighbors object was passed in, but a different n_neighbors was specified. Using the n_neighbors found in the existing KNN search object.\n",
      "  warnings.warn(\n"
     ]
    }
   ],
   "source": [
    "lab = Datalab(data, label_name=\"y\")\n",
    "lab.find_issues(pred_probs=pred_probs, features=data[\"X\"])"
   ]
  },
  {
   "cell_type": "markdown",
   "metadata": {},
   "source": [
    "Now let's review the results of this audit using `report()`.\n",
    "This provides a high-level summary of each type of issue found in the dataset."
   ]
  },
  {
   "cell_type": "code",
   "execution_count": 11,
   "metadata": {},
   "outputs": [
    {
     "name": "stdout",
     "output_type": "stream",
     "text": [
      "Here is a summary of the different kinds of issues found in the data:\n",
      "\n",
      "    issue_type    score  num_issues\n",
      "         label 0.909091          11\n",
      "       outlier 0.522080           6\n",
      "near_duplicate 0.246459           4\n",
      "\n",
      "(Note: A lower score indicates a more severe issue across all examples in the dataset.)\n",
      "\n",
      "\n",
      "------------------------------------------- label issues -------------------------------------------\n",
      "\n",
      "About this issue:\n",
      "\tExamples whose given label is estimated to be potentially \n",
      "    incorrect (e.g. due to annotation error) are flagged as having label issues.\n",
      "    \n",
      "\n",
      "Number of examples with this issue: 11\n",
      "Overall dataset quality in terms of this issue: : 0.9091\n",
      "\n",
      "Examples representing most severe instances of this issue:\n",
      "     is_label_issue  label_score given_label predicted_label\n",
      "77             True     0.006939        high             mid\n",
      "7              True     0.007830         low             mid\n",
      "40             True     0.014826         mid             low\n",
      "107            True     0.021220        high             mid\n",
      "120            True     0.026403        high             mid\n",
      "\n",
      "\n",
      "------------------------------------------ outlier issues ------------------------------------------\n",
      "\n",
      "About this issue:\n",
      "\tExamples that are very different from the rest of the dataset\n",
      "        (i.e. potentially out-of-distribution or rare/anomalous instances).\n",
      "        \n",
      "\n",
      "Number of examples with this issue: 6\n",
      "Overall dataset quality in terms of this issue: : 0.5221\n",
      "\n",
      "Examples representing most severe instances of this issue:\n",
      "     is_outlier_issue  outlier_score  nearest_neighbor  distance_to_nearest_neighbor\n",
      "126              True       0.046465                 5                  2.353282e+00\n",
      "130              True       0.068695               129                  4.463180e-07\n",
      "129              True       0.068695               130                  4.463180e-07\n",
      "127              True       0.076251                76                  2.297110e+00\n",
      "128              True       0.083941                57                  2.199371e+00\n",
      "\n",
      "\n",
      "-------------------------------------- near_duplicate issues ---------------------------------------\n",
      "\n",
      "About this issue:\n",
      "\tA (near) duplicate issue refers to two or more examples in\n",
      "        a dataset that are extremely similar to each other, relative\n",
      "        to the rest of the dataset.  The examples flagged with this issue\n",
      "        may be exactly duplicated, or lie atypically close together when\n",
      "        represented as vectors (i.e. feature embeddings).\n",
      "        \n",
      "\n",
      "Number of examples with this issue: 4\n",
      "Overall dataset quality in terms of this issue: : 0.2465\n",
      "\n",
      "Examples representing most severe instances of this issue:\n",
      "     is_near_duplicate_issue  near_duplicate_score near_duplicate_sets  distance_to_nearest_neighbor\n",
      "131                     True          0.000000e+00               [131]                  0.000000e+00\n",
      "123                     True          0.000000e+00               [131]                  0.000000e+00\n",
      "129                     True          4.463180e-07               [130]                  4.463180e-07\n",
      "130                     True          4.463180e-07               [129]                  4.463180e-07\n",
      "51                     False          3.857172e-02                  []                  3.859087e-02\n",
      "\n",
      "Additional Information: \n",
      "threshold: 0.01098074718720322\n"
     ]
    }
   ],
   "source": [
    "lab.report()"
   ]
  },
  {
   "cell_type": "markdown",
   "metadata": {},
   "source": [
    "## 5. View issue summaries and additional information regarding the dataset"
   ]
  },
  {
   "cell_type": "markdown",
   "metadata": {},
   "source": [
    "There are several methods to get more details about a particular issue.\n",
    "\n",
    "The `get_summary()` method fetches summary statistics regarding how severe each type of issue is overall across the whole dataset."
   ]
  },
  {
   "cell_type": "code",
   "execution_count": 12,
   "metadata": {},
   "outputs": [
    {
     "data": {
      "text/html": [
       "<div>\n",
       "<style scoped>\n",
       "    .dataframe tbody tr th:only-of-type {\n",
       "        vertical-align: middle;\n",
       "    }\n",
       "\n",
       "    .dataframe tbody tr th {\n",
       "        vertical-align: top;\n",
       "    }\n",
       "\n",
       "    .dataframe thead th {\n",
       "        text-align: right;\n",
       "    }\n",
       "</style>\n",
       "<table border=\"1\" class=\"dataframe\">\n",
       "  <thead>\n",
       "    <tr style=\"text-align: right;\">\n",
       "      <th></th>\n",
       "      <th>issue_type</th>\n",
       "      <th>score</th>\n",
       "      <th>num_issues</th>\n",
       "    </tr>\n",
       "  </thead>\n",
       "  <tbody>\n",
       "    <tr>\n",
       "      <th>0</th>\n",
       "      <td>label</td>\n",
       "      <td>0.909091</td>\n",
       "      <td>11</td>\n",
       "    </tr>\n",
       "    <tr>\n",
       "      <th>1</th>\n",
       "      <td>outlier</td>\n",
       "      <td>0.522080</td>\n",
       "      <td>6</td>\n",
       "    </tr>\n",
       "    <tr>\n",
       "      <th>2</th>\n",
       "      <td>near_duplicate</td>\n",
       "      <td>0.246459</td>\n",
       "      <td>4</td>\n",
       "    </tr>\n",
       "  </tbody>\n",
       "</table>\n",
       "</div>"
      ],
      "text/plain": [
       "       issue_type     score  num_issues\n",
       "0           label  0.909091          11\n",
       "1         outlier  0.522080           6\n",
       "2  near_duplicate  0.246459           4"
      ]
     },
     "execution_count": 12,
     "metadata": {},
     "output_type": "execute_result"
    }
   ],
   "source": [
    "lab.get_summary()"
   ]
  },
  {
   "cell_type": "markdown",
   "metadata": {},
   "source": [
    "We can also pass the type of issue as a argument to the `get_summary()` method to get the summary for a particular issue. For example, we can pass in `label` as an argument to only get the summary regarding label issues."
   ]
  },
  {
   "cell_type": "code",
   "execution_count": 13,
   "metadata": {},
   "outputs": [
    {
     "data": {
      "text/html": [
       "<div>\n",
       "<style scoped>\n",
       "    .dataframe tbody tr th:only-of-type {\n",
       "        vertical-align: middle;\n",
       "    }\n",
       "\n",
       "    .dataframe tbody tr th {\n",
       "        vertical-align: top;\n",
       "    }\n",
       "\n",
       "    .dataframe thead th {\n",
       "        text-align: right;\n",
       "    }\n",
       "</style>\n",
       "<table border=\"1\" class=\"dataframe\">\n",
       "  <thead>\n",
       "    <tr style=\"text-align: right;\">\n",
       "      <th></th>\n",
       "      <th>issue_type</th>\n",
       "      <th>score</th>\n",
       "      <th>num_issues</th>\n",
       "    </tr>\n",
       "  </thead>\n",
       "  <tbody>\n",
       "    <tr>\n",
       "      <th>0</th>\n",
       "      <td>label</td>\n",
       "      <td>0.909091</td>\n",
       "      <td>11</td>\n",
       "    </tr>\n",
       "  </tbody>\n",
       "</table>\n",
       "</div>"
      ],
      "text/plain": [
       "  issue_type     score  num_issues\n",
       "0      label  0.909091          11"
      ]
     },
     "execution_count": 13,
     "metadata": {},
     "output_type": "execute_result"
    }
   ],
   "source": [
    "lab.get_summary(\"label\")"
   ]
  },
  {
   "cell_type": "markdown",
   "metadata": {},
   "source": [
    "The `get_issues()` method returns information for each individual example about: whether or not it is plagued by this issue, as well as a quality score for how severe this issue appears to be. "
   ]
  },
  {
   "cell_type": "code",
   "execution_count": 14,
   "metadata": {},
   "outputs": [
    {
     "data": {
      "text/html": [
       "<div>\n",
       "<style scoped>\n",
       "    .dataframe tbody tr th:only-of-type {\n",
       "        vertical-align: middle;\n",
       "    }\n",
       "\n",
       "    .dataframe tbody tr th {\n",
       "        vertical-align: top;\n",
       "    }\n",
       "\n",
       "    .dataframe thead th {\n",
       "        text-align: right;\n",
       "    }\n",
       "</style>\n",
       "<table border=\"1\" class=\"dataframe\">\n",
       "  <thead>\n",
       "    <tr style=\"text-align: right;\">\n",
       "      <th></th>\n",
       "      <th>is_label_issue</th>\n",
       "      <th>label_score</th>\n",
       "      <th>is_outlier_issue</th>\n",
       "      <th>outlier_score</th>\n",
       "      <th>is_near_duplicate_issue</th>\n",
       "      <th>near_duplicate_score</th>\n",
       "    </tr>\n",
       "  </thead>\n",
       "  <tbody>\n",
       "    <tr>\n",
       "      <th>0</th>\n",
       "      <td>False</td>\n",
       "      <td>0.864232</td>\n",
       "      <td>False</td>\n",
       "      <td>0.586131</td>\n",
       "      <td>False</td>\n",
       "      <td>0.235095</td>\n",
       "    </tr>\n",
       "    <tr>\n",
       "      <th>1</th>\n",
       "      <td>False</td>\n",
       "      <td>0.825563</td>\n",
       "      <td>False</td>\n",
       "      <td>0.548979</td>\n",
       "      <td>False</td>\n",
       "      <td>0.221560</td>\n",
       "    </tr>\n",
       "    <tr>\n",
       "      <th>2</th>\n",
       "      <td>False</td>\n",
       "      <td>0.533367</td>\n",
       "      <td>False</td>\n",
       "      <td>0.622256</td>\n",
       "      <td>False</td>\n",
       "      <td>0.199185</td>\n",
       "    </tr>\n",
       "    <tr>\n",
       "      <th>3</th>\n",
       "      <td>False</td>\n",
       "      <td>0.755724</td>\n",
       "      <td>False</td>\n",
       "      <td>0.499498</td>\n",
       "      <td>False</td>\n",
       "      <td>0.179601</td>\n",
       "    </tr>\n",
       "    <tr>\n",
       "      <th>4</th>\n",
       "      <td>True</td>\n",
       "      <td>0.133588</td>\n",
       "      <td>False</td>\n",
       "      <td>0.632385</td>\n",
       "      <td>False</td>\n",
       "      <td>0.292800</td>\n",
       "    </tr>\n",
       "  </tbody>\n",
       "</table>\n",
       "</div>"
      ],
      "text/plain": [
       "   is_label_issue  label_score  is_outlier_issue  outlier_score  \\\n",
       "0           False     0.864232             False       0.586131   \n",
       "1           False     0.825563             False       0.548979   \n",
       "2           False     0.533367             False       0.622256   \n",
       "3           False     0.755724             False       0.499498   \n",
       "4            True     0.133588             False       0.632385   \n",
       "\n",
       "   is_near_duplicate_issue  near_duplicate_score  \n",
       "0                    False              0.235095  \n",
       "1                    False              0.221560  \n",
       "2                    False              0.199185  \n",
       "3                    False              0.179601  \n",
       "4                    False              0.292800  "
      ]
     },
     "execution_count": 14,
     "metadata": {},
     "output_type": "execute_result"
    }
   ],
   "source": [
    "lab.get_issues().head()"
   ]
  },
  {
   "cell_type": "markdown",
   "metadata": {},
   "source": [
    "Similar to above, we can pass the type of issue as a argument to `get_issues()` to get the information for that particular issue.\n",
    "\n",
    "Lower scores indicate more severe instances of the issue, so you can sort by these values to see the most concerning examples in your dataset for each type of issue. Here we show an example of how to get the examples that have been identified as having the most severe label issues."
   ]
  },
  {
   "cell_type": "code",
   "execution_count": 15,
   "metadata": {},
   "outputs": [
    {
     "data": {
      "text/html": [
       "<div>\n",
       "<style scoped>\n",
       "    .dataframe tbody tr th:only-of-type {\n",
       "        vertical-align: middle;\n",
       "    }\n",
       "\n",
       "    .dataframe tbody tr th {\n",
       "        vertical-align: top;\n",
       "    }\n",
       "\n",
       "    .dataframe thead th {\n",
       "        text-align: right;\n",
       "    }\n",
       "</style>\n",
       "<table border=\"1\" class=\"dataframe\">\n",
       "  <thead>\n",
       "    <tr style=\"text-align: right;\">\n",
       "      <th></th>\n",
       "      <th>is_label_issue</th>\n",
       "      <th>label_score</th>\n",
       "      <th>given_label</th>\n",
       "      <th>predicted_label</th>\n",
       "    </tr>\n",
       "  </thead>\n",
       "  <tbody>\n",
       "    <tr>\n",
       "      <th>77</th>\n",
       "      <td>True</td>\n",
       "      <td>0.006939</td>\n",
       "      <td>high</td>\n",
       "      <td>mid</td>\n",
       "    </tr>\n",
       "    <tr>\n",
       "      <th>7</th>\n",
       "      <td>True</td>\n",
       "      <td>0.007830</td>\n",
       "      <td>low</td>\n",
       "      <td>mid</td>\n",
       "    </tr>\n",
       "    <tr>\n",
       "      <th>40</th>\n",
       "      <td>True</td>\n",
       "      <td>0.014826</td>\n",
       "      <td>mid</td>\n",
       "      <td>low</td>\n",
       "    </tr>\n",
       "    <tr>\n",
       "      <th>107</th>\n",
       "      <td>True</td>\n",
       "      <td>0.021220</td>\n",
       "      <td>high</td>\n",
       "      <td>mid</td>\n",
       "    </tr>\n",
       "    <tr>\n",
       "      <th>120</th>\n",
       "      <td>True</td>\n",
       "      <td>0.026403</td>\n",
       "      <td>high</td>\n",
       "      <td>mid</td>\n",
       "    </tr>\n",
       "  </tbody>\n",
       "</table>\n",
       "</div>"
      ],
      "text/plain": [
       "     is_label_issue  label_score given_label predicted_label\n",
       "77             True     0.006939        high             mid\n",
       "7              True     0.007830         low             mid\n",
       "40             True     0.014826         mid             low\n",
       "107            True     0.021220        high             mid\n",
       "120            True     0.026403        high             mid"
      ]
     },
     "execution_count": 15,
     "metadata": {},
     "output_type": "execute_result"
    }
   ],
   "source": [
    "examples_w_issue = (\n",
    "    lab.get_issues(\"label\")\n",
    "    .query(\"is_label_issue\")\n",
    "    .sort_values(\"label_score\")\n",
    ")\n",
    "\n",
    "examples_w_issue.head()"
   ]
  },
  {
   "cell_type": "markdown",
   "metadata": {},
   "source": [
    "Looking at the labels for some of these top-ranked examples, we find their given label was indeed incorrect!"
   ]
  },
  {
   "cell_type": "markdown",
   "metadata": {},
   "source": [
    "Additional information (statistics, intermediate results, etc) related to a particular issue check can be accessed via `get_info(issue_name)`."
   ]
  },
  {
   "cell_type": "code",
   "execution_count": 16,
   "metadata": {
    "scrolled": true
   },
   "outputs": [
    {
     "data": {
      "text/plain": [
       "{'num_label_issues': 11,\n",
       " 'average_label_quality': 0.6852252801299483,\n",
       " 'given_label': array(['mid', 'mid', 'low', 'high', 'high', 'mid', 'high', 'low', 'mid',\n",
       "        'mid', 'mid', 'low', 'mid', 'mid', 'mid', 'mid', 'mid', 'high',\n",
       "        'high', 'mid', 'low', 'mid', 'high', 'mid', 'mid', 'mid', 'low',\n",
       "        'low', 'mid', 'low', 'high', 'high', 'mid', 'low', 'mid', 'high',\n",
       "        'high', 'high', 'low', 'mid', 'mid', 'mid', 'mid', 'high', 'mid',\n",
       "        'mid', 'mid', 'high', 'low', 'low', 'mid', 'mid', 'mid', 'high',\n",
       "        'mid', 'mid', 'low', 'low', 'high', 'mid', 'low', 'mid', 'mid',\n",
       "        'mid', 'mid', 'low', 'mid', 'mid', 'mid', 'high', 'mid', 'mid',\n",
       "        'low', 'mid', 'mid', 'high', 'mid', 'high', 'high', 'mid', 'mid',\n",
       "        'high', 'low', 'mid', 'low', 'mid', 'mid', 'mid', 'low', 'mid',\n",
       "        'mid', 'high', 'mid', 'low', 'mid', 'low', 'low', 'low', 'low',\n",
       "        'mid', 'high', 'low', 'mid', 'mid', 'low', 'mid', 'mid', 'high',\n",
       "        'mid', 'high', 'mid', 'mid', 'mid', 'mid', 'mid', 'mid', 'mid',\n",
       "        'mid', 'mid', 'mid', 'high', 'mid', 'high', 'mid', 'mid', 'low',\n",
       "        'mid', 'high', 'low', 'high', 'high', 'mid'], dtype='<U4'),\n",
       " 'predicted_label': array(['mid', 'mid', 'low', 'high', 'mid', 'mid', 'high', 'mid', 'mid',\n",
       "        'mid', 'mid', 'low', 'mid', 'mid', 'mid', 'mid', 'mid', 'high',\n",
       "        'mid', 'mid', 'mid', 'mid', 'mid', 'mid', 'mid', 'mid', 'low',\n",
       "        'low', 'mid', 'low', 'high', 'high', 'mid', 'low', 'mid', 'high',\n",
       "        'high', 'high', 'low', 'mid', 'low', 'mid', 'mid', 'mid', 'mid',\n",
       "        'mid', 'mid', 'high', 'low', 'low', 'mid', 'mid', 'mid', 'mid',\n",
       "        'low', 'mid', 'low', 'low', 'high', 'mid', 'low', 'mid', 'mid',\n",
       "        'mid', 'mid', 'low', 'mid', 'mid', 'mid', 'high', 'mid', 'mid',\n",
       "        'low', 'mid', 'mid', 'high', 'mid', 'mid', 'mid', 'mid', 'mid',\n",
       "        'high', 'low', 'mid', 'mid', 'mid', 'mid', 'mid', 'low', 'mid',\n",
       "        'mid', 'mid', 'mid', 'low', 'mid', 'low', 'mid', 'low', 'mid',\n",
       "        'mid', 'high', 'low', 'mid', 'mid', 'mid', 'high', 'mid', 'mid',\n",
       "        'mid', 'high', 'mid', 'mid', 'mid', 'mid', 'mid', 'high', 'mid',\n",
       "        'mid', 'mid', 'mid', 'mid', 'mid', 'high', 'mid', 'mid', 'low',\n",
       "        'mid', 'high', 'low', 'high', 'high', 'mid'], dtype='<U4'),\n",
       " 'confident_joint': array([[23,  0,  6],\n",
       "        [ 0, 26,  2],\n",
       "        [ 1,  3, 71]]),\n",
       " 'classes_by_label_quality':   Class Name  Class Index  Label Issues  Inverse Label Issues  Label Noise  \\\n",
       " 0       high            0             6                     1     0.206897   \n",
       " 1        low            1             2                     3     0.071429   \n",
       " 2        mid            2             4                     8     0.053333   \n",
       " \n",
       "    Inverse Label Noise  Label Quality Score  \n",
       " 0             0.041667             0.793103  \n",
       " 1             0.103448             0.928571  \n",
       " 2             0.101266             0.946667  ,\n",
       " 'overlapping_classes':   Class Name A Class Name B  Class Index A  Class Index B  \\\n",
       " 0         high          mid              0              2   \n",
       " 1          low          mid              1              2   \n",
       " 2         high          low              0              1   \n",
       " \n",
       "    Num Overlapping Examples  Joint Probability  \n",
       " 0                         7           0.053030  \n",
       " 1                         5           0.037879  \n",
       " 2                         0           0.000000  ,\n",
       " 'py': array([0.18181818, 0.21969697, 0.59848485]),\n",
       " 'noise_matrix': array([[0.95833333, 0.        , 0.07594937],\n",
       "        [0.        , 0.89655172, 0.02531646],\n",
       "        [0.04166667, 0.10344828, 0.89873418]]),\n",
       " 'inverse_noise_matrix': array([[0.79310345, 0.        , 0.01333333],\n",
       "        [0.        , 0.92857143, 0.04      ],\n",
       "        [0.20689655, 0.07142857, 0.94666667]]),\n",
       " 'class_names': ['high', 'low', 'mid']}"
      ]
     },
     "execution_count": 16,
     "metadata": {},
     "output_type": "execute_result"
    }
   ],
   "source": [
    "lab.get_info(\"label\")"
   ]
  },
  {
   "cell_type": "markdown",
   "metadata": {},
   "source": [
    "## 6. Get more information from Datalab attributes"
   ]
  },
  {
   "cell_type": "markdown",
   "metadata": {},
   "source": [
    "Some summaries are also directly accessible as attributes of the `Datalab` instance."
   ]
  },
  {
   "cell_type": "markdown",
   "metadata": {},
   "source": [
    "The summary of all issues can be accessed by the `issue_summary` method. This is equivalent to calling `lab.get_summary()`."
   ]
  },
  {
   "cell_type": "code",
   "execution_count": 17,
   "metadata": {},
   "outputs": [
    {
     "data": {
      "text/html": [
       "<div>\n",
       "<style scoped>\n",
       "    .dataframe tbody tr th:only-of-type {\n",
       "        vertical-align: middle;\n",
       "    }\n",
       "\n",
       "    .dataframe tbody tr th {\n",
       "        vertical-align: top;\n",
       "    }\n",
       "\n",
       "    .dataframe thead th {\n",
       "        text-align: right;\n",
       "    }\n",
       "</style>\n",
       "<table border=\"1\" class=\"dataframe\">\n",
       "  <thead>\n",
       "    <tr style=\"text-align: right;\">\n",
       "      <th></th>\n",
       "      <th>issue_type</th>\n",
       "      <th>score</th>\n",
       "      <th>num_issues</th>\n",
       "    </tr>\n",
       "  </thead>\n",
       "  <tbody>\n",
       "    <tr>\n",
       "      <th>0</th>\n",
       "      <td>label</td>\n",
       "      <td>0.909091</td>\n",
       "      <td>11</td>\n",
       "    </tr>\n",
       "    <tr>\n",
       "      <th>1</th>\n",
       "      <td>outlier</td>\n",
       "      <td>0.522080</td>\n",
       "      <td>6</td>\n",
       "    </tr>\n",
       "    <tr>\n",
       "      <th>2</th>\n",
       "      <td>near_duplicate</td>\n",
       "      <td>0.246459</td>\n",
       "      <td>4</td>\n",
       "    </tr>\n",
       "  </tbody>\n",
       "</table>\n",
       "</div>"
      ],
      "text/plain": [
       "       issue_type     score  num_issues\n",
       "0           label  0.909091          11\n",
       "1         outlier  0.522080           6\n",
       "2  near_duplicate  0.246459           4"
      ]
     },
     "execution_count": 17,
     "metadata": {},
     "output_type": "execute_result"
    }
   ],
   "source": [
    "lab.issue_summary"
   ]
  },
  {
   "cell_type": "markdown",
   "metadata": {},
   "source": [
    "Details about the quality of each example can be accessed by the `issues` method. This is equivalent to calling `lab.get_issues()`."
   ]
  },
  {
   "cell_type": "code",
   "execution_count": 18,
   "metadata": {},
   "outputs": [
    {
     "data": {
      "text/html": [
       "<div>\n",
       "<style scoped>\n",
       "    .dataframe tbody tr th:only-of-type {\n",
       "        vertical-align: middle;\n",
       "    }\n",
       "\n",
       "    .dataframe tbody tr th {\n",
       "        vertical-align: top;\n",
       "    }\n",
       "\n",
       "    .dataframe thead th {\n",
       "        text-align: right;\n",
       "    }\n",
       "</style>\n",
       "<table border=\"1\" class=\"dataframe\">\n",
       "  <thead>\n",
       "    <tr style=\"text-align: right;\">\n",
       "      <th></th>\n",
       "      <th>is_label_issue</th>\n",
       "      <th>label_score</th>\n",
       "      <th>is_outlier_issue</th>\n",
       "      <th>outlier_score</th>\n",
       "      <th>is_near_duplicate_issue</th>\n",
       "      <th>near_duplicate_score</th>\n",
       "    </tr>\n",
       "  </thead>\n",
       "  <tbody>\n",
       "    <tr>\n",
       "      <th>0</th>\n",
       "      <td>False</td>\n",
       "      <td>0.864232</td>\n",
       "      <td>False</td>\n",
       "      <td>0.586131</td>\n",
       "      <td>False</td>\n",
       "      <td>0.235095</td>\n",
       "    </tr>\n",
       "    <tr>\n",
       "      <th>1</th>\n",
       "      <td>False</td>\n",
       "      <td>0.825563</td>\n",
       "      <td>False</td>\n",
       "      <td>0.548979</td>\n",
       "      <td>False</td>\n",
       "      <td>0.221560</td>\n",
       "    </tr>\n",
       "    <tr>\n",
       "      <th>2</th>\n",
       "      <td>False</td>\n",
       "      <td>0.533367</td>\n",
       "      <td>False</td>\n",
       "      <td>0.622256</td>\n",
       "      <td>False</td>\n",
       "      <td>0.199185</td>\n",
       "    </tr>\n",
       "    <tr>\n",
       "      <th>3</th>\n",
       "      <td>False</td>\n",
       "      <td>0.755724</td>\n",
       "      <td>False</td>\n",
       "      <td>0.499498</td>\n",
       "      <td>False</td>\n",
       "      <td>0.179601</td>\n",
       "    </tr>\n",
       "    <tr>\n",
       "      <th>4</th>\n",
       "      <td>True</td>\n",
       "      <td>0.133588</td>\n",
       "      <td>False</td>\n",
       "      <td>0.632385</td>\n",
       "      <td>False</td>\n",
       "      <td>0.292800</td>\n",
       "    </tr>\n",
       "  </tbody>\n",
       "</table>\n",
       "</div>"
      ],
      "text/plain": [
       "   is_label_issue  label_score  is_outlier_issue  outlier_score  \\\n",
       "0           False     0.864232             False       0.586131   \n",
       "1           False     0.825563             False       0.548979   \n",
       "2           False     0.533367             False       0.622256   \n",
       "3           False     0.755724             False       0.499498   \n",
       "4            True     0.133588             False       0.632385   \n",
       "\n",
       "   is_near_duplicate_issue  near_duplicate_score  \n",
       "0                    False              0.235095  \n",
       "1                    False              0.221560  \n",
       "2                    False              0.199185  \n",
       "3                    False              0.179601  \n",
       "4                    False              0.292800  "
      ]
     },
     "execution_count": 18,
     "metadata": {},
     "output_type": "execute_result"
    }
   ],
   "source": [
    "lab.issues.head()"
   ]
  },
  {
   "cell_type": "markdown",
   "metadata": {},
   "source": [
    "Lastly, you can get all sorts of information regarding your dataset using the `info` attribute. This will not be printed in this example as the return is large but feel free to check it out yourself!"
   ]
  },
  {
   "cell_type": "code",
   "execution_count": 19,
   "metadata": {},
   "outputs": [],
   "source": [
    "# lab.info "
   ]
  },
  {
   "cell_type": "markdown",
   "metadata": {},
   "source": [
    "`Datalab` makes it very easy to check your datasets for all sorts of issues that are important to deal with for training robust models. \n",
    "\n",
    "For more information, check out this [TODO: examples notebook] and [TODO: advanced tutorial notebook]"
   ]
  }
 ],
 "metadata": {
  "celltoolbar": "Edit Metadata",
  "kernelspec": {
   "display_name": "Python 3 (ipykernel)",
   "language": "python",
   "name": "python3"
  },
  "language_info": {
   "codemirror_mode": {
    "name": "ipython",
    "version": 3
   },
   "file_extension": ".py",
   "mimetype": "text/x-python",
   "name": "python",
   "nbconvert_exporter": "python",
   "pygments_lexer": "ipython3",
   "version": "3.9.13"
  },
  "vscode": {
   "interpreter": {
    "hash": "d4d1e4263499bec80672ea0156c357c1ee493ec2b1c70f0acce89fc37c4a6abe"
   }
  }
 },
 "nbformat": 4,
 "nbformat_minor": 2
}
