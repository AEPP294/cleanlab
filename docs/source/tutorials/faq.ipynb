{
 "cells": [
  {
   "cell_type": "markdown",
   "id": "ffe0d62e",
   "metadata": {},
   "source": [
    "# FAQ\n",
    "\n",
    "Answers to frequently asked questions about the [cleanlab](https://github.com/cleanlab/cleanlab) open source package"
   ]
  },
  {
   "cell_type": "markdown",
   "id": "eca36874",
   "metadata": {},
   "source": [
    "### 1.How do I format labels for Cleanlab?"
   ]
  },
  {
   "cell_type": "markdown",
   "id": "d5d0fbb3",
   "metadata": {},
   "source": [
    "Cleanlab only works with integer-encoded labels in the range `{0,1, ... K-1}` where `K = number_of_classes`. Final labels array should only contain integer values in the range  `{0, K-1}` and be of shape `(N,)` where `N = total_number_of_data_points`.\n",
    "\n",
    "**Text labels** should to be integer-encoded. An example of text to integer-encoding can be found in step 2 of [Text Classification with TensorFlow, Keras, and Cleanlab Tutorial](https://docs.cleanlab.ai/v2.0.0/tutorials/text.html#2.-Load-and-preprocess-the-IMDb-text-dataset). \n",
    "\n",
    "**One-hot encoded labels** should be integer-encoded by finding the argmax along the one-hot encoded axis. An example of what this might look like is shown below."
   ]
  },
  {
   "cell_type": "code",
   "execution_count": 8,
   "id": "239d5ee7",
   "metadata": {},
   "outputs": [],
   "source": [
    "import numpy as np \n",
    "\n",
    "arr  = np.array([[0,1,0,0],[1,0,0,0],[0,0,0,1]]) # [3,4] array wih 4 labels\n",
    "one_hot_encoded_axis = 1\n",
    "int_arr = np.argmax(arr, axis=one_hot_encoded_axis) # [3, ] array with label 0-3 assigned per row "
   ]
  },
  {
   "cell_type": "markdown",
   "id": "49c3927b",
   "metadata": {},
   "source": [
    "Here `arr` is the one-hot encoded array and `one_hot_encoded_axis` is the axis of the one-hot encoded feature columns. `int_arr` is the final integer-encoded array. After labels array is integer-encoded, see in [The Workflows of Data-Centric AI Tutorial](https://docs.cleanlab.ai/v2.0.0/tutorials/indepth_overview.html#Workflow-1:-Use-CleanLearning()-for-everything) how to pass it into the model. "
   ]
  },
  {
   "cell_type": "markdown",
   "id": "1520a93f",
   "metadata": {},
   "source": [
    "### Can't find an answer to your question?\n",
    "\n",
    "If your issue is not addressed here, please refer to [Cleanlab Github issues](https://github.com/cleanlab/cleanlab/issues). \n",
    "\n",
    "If it is not addressed there, open a new issue including details such as your version of cleanlab (or complete `pip freeze` for all package versions), the complete set of commands you are running, and the output of these commands."
   ]
  }
 ],
 "metadata": {
  "kernelspec": {
   "display_name": "Python 3 (ipykernel)",
   "language": "python",
   "name": "python3"
  },
  "language_info": {
   "codemirror_mode": {
    "name": "ipython",
    "version": 3
   },
   "file_extension": ".py",
   "mimetype": "text/x-python",
   "name": "python",
   "nbconvert_exporter": "python",
   "pygments_lexer": "ipython3",
   "version": "3.8.13"
  }
 },
 "nbformat": 4,
 "nbformat_minor": 5
}
