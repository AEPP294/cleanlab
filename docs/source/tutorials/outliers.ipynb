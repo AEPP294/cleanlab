{
 "cells": [
  {
   "cell_type": "markdown",
   "id": "5decad3c",
   "metadata": {},
   "source": [
    "# Detecting Outliers with Cleanlab and PyTorch Image Models (timm)\n",
    "\n",
    "This 5-minute tutorial show how to detect potential outliers in image data using Cleanlab and PyTorch. The dataset used is `cifar10` which contains 60,000 images. Each image belongs to 1 of 10 classes: `[airplane, automobile, bird, cat, deer, dog, frog, horse, ship, truck]`. \n",
    "\n",
    "**Overview of what we'll do in this tutorial:**\n",
    "\n",
    "- Load the [cifar10](https://www.cs.toronto.edu/~kriz/cifar.html) dataset and do some basic data pre-processing.\n",
    "- Create `train_data` and `test_data` such that `train_data` only contains animals and `test_data` contains all classes.\n",
    "- Load pretrained `timm` model and extract `train_data` and `test_data` feature embeddings.\n",
    "- Use `cleanlab` to find naturally occuring outlier examples in the `train_data`.\n",
    "- Use `cleanlab` to find outlier examples (non-animals) in the `test_data`.\n",
    "- Explore threshold selection for labeling outliers"
   ]
  },
  {
   "cell_type": "markdown",
   "id": "8b60c5b3",
   "metadata": {},
   "source": [
    "<div class=\"alert alert-info\">\n",
    "Quickstart\n",
    "<br/>\n",
    "    \n",
    "Do you already have `feature_embeddings` from your data? Run the code below to generate outlier scores.\n",
    "\n",
    "\n",
    "<div  class=markdown markdown=\"1\" style=\"background:white;margin:16px\">  \n",
    "    \n",
    "```python\n",
    "\n",
    "from sklearn.neighbors import NearestNeighbors\n",
    "from cleanlab.rank import get_outlier_scores\n",
    "\n",
    "# To get outlier scores for train_data using train_feature_embeddings\n",
    "outlier_scores = get_outlier_scores(features=train_feature_embeddings)\n",
    "\n",
    "# To get outlier scores for test_data using feature matrix test_feature_embeddings\n",
    "knn = NearestNeighbors(n_neighbors=10, metric=\"cosine\").fit(train_feature_embeddings)\n",
    "outlier_scores = get_outlier_scores(features=test_feature_embeddings, knn=knn)\n",
    "    \n",
    "\n",
    "```\n",
    "    \n",
    "</div>\n",
    "</div>"
   ]
  },
  {
   "cell_type": "markdown",
   "id": "e29a3608",
   "metadata": {},
   "source": [
    "## 1. Install the required dependencies\n",
    "You can use `pip` to install all packages required for this tutorial as follows:\n",
    "\n",
    "```ipython3\n",
    "!pip install cleanlab\n",
    "...\n",
    "# Make sure to install the version corresponding to this tutorial\n",
    "# E.g. if viewing master branch documentation:\n",
    "#     !pip install git+https://github.com/cleanlab/cleanlab.git\n",
    "```"
   ]
  },
  {
   "cell_type": "code",
   "execution_count": null,
   "id": "48cb3aed",
   "metadata": {
    "tags": [
     "\"nbsphinx\":\"hidden\""
    ]
   },
   "outputs": [],
   "source": [
    "# Package installation (hidden on docs website).\n",
    "# If running on Colab, may want to use GPU (select: Runtime > Change runtime type > Hardware accelerator > GPU)\n",
    "# Package versions we used: matplotlib==3.5.1, numpy==1.21.6, torch==1.11.0, scikit-learn==1.0.2, torchvision==0.12.0, timm==0.5.4, cleanlab==2.0.0\n",
    "\n",
    "dependencies = [\"matplotlib\", \"torch\", \"torchvision\", \"sklearn\", \"timm\"]\n",
    "\n",
    "if \"google.colab\" in str(get_ipython()):  # Check if it's running in Google Colab\n",
    "    %pip install cleanlab  # for colab\n",
    "    cmd = ' '.join([dep for dep in dependencies if dep != \"cleanlab\"])\n",
    "    %pip install $cmd\n",
    "else:\n",
    "    missing_dependencies = []\n",
    "    for dependency in dependencies:\n",
    "        try:\n",
    "            __import__(dependency)\n",
    "        except ImportError:\n",
    "            missing_dependencies.append(dependency)\n",
    "\n",
    "    if len(missing_dependencies) > 0:\n",
    "        print(\"Missing required dependencies:\")\n",
    "        print(*missing_dependencies, sep=\", \")\n",
    "        print(\"\\nPlease install them before running the rest of this notebook.\")"
   ]
  },
  {
   "cell_type": "markdown",
   "id": "edb76474",
   "metadata": {},
   "source": [
    "Lets first import the required packages and set some seeds for reproducibility"
   ]
  },
  {
   "cell_type": "code",
   "execution_count": null,
   "id": "30ba7c1a",
   "metadata": {},
   "outputs": [],
   "source": [
    "import torch\n",
    "import torchvision\n",
    "\n",
    "import numpy as np\n",
    "import matplotlib.pyplot as plt\n",
    "from pylab import rcParams\n",
    "\n",
    "import warnings\n",
    "\n",
    "import cleanlab\n",
    "from cleanlab.rank import get_outlier_scores\n",
    "from sklearn.metrics import precision_recall_curve\n",
    "from sklearn.neighbors import NearestNeighbors # import KNN estimator\n",
    "from sklearn.model_selection import train_test_split\n",
    "\n",
    "import timm # resnet50 pre-trained model\n",
    "\n",
    "SEED = 42\n",
    "np.random.seed(SEED)\n",
    "torch.manual_seed(SEED)\n",
    "torch.backends.cudnn.deterministic = True\n",
    "torch.backends.cudnn.benchmark = False\n",
    "torch.cuda.manual_seed_all(SEED)\n",
    "warnings.filterwarnings(\"ignore\", \"Lazy modules are a new feature.*\")"
   ]
  },
  {
   "cell_type": "markdown",
   "id": "4e482550",
   "metadata": {},
   "source": [
    "## 2. Fetch and scale the Cifar10 dataset\n",
    "\n",
    "Import `cifar10` dataset. After some basic preprocessing, we manually remove some classes from the training examples thereby making them outliers in the test set. For this example we've chosen to remove all classes that are not an animal `[airplane, automobile, ship, truck]` from the training set `trainX`."
   ]
  },
  {
   "cell_type": "code",
   "execution_count": null,
   "id": "242e4a0b",
   "metadata": {},
   "outputs": [],
   "source": [
    "# Select how to load the cifar10 datasets. Load into tensors for training.\n",
    "transform_normalize = torchvision.transforms.Compose(\n",
    "    [torchvision.transforms.ToTensor(),])\n",
    "\n",
    "# Load cifar10 datasets\n",
    "train_data = torchvision.datasets.CIFAR10(root='./data', train=True,\n",
    "                                        download=True, transform=transform_normalize)\n",
    "test_data = torchvision.datasets.CIFAR10(root='./data', train=False,\n",
    "                                       download=True, transform=transform_normalize)\n",
    "\n",
    "# Manually remove non-animals out of the training dataset\n",
    "animal_labels = [2,3,4,5,6,7]\n",
    "animal_idxs = np.where(np.isin(train_data.targets, animal_labels))[0]\n",
    "\n",
    "# Select small subset of train/test data\n",
    "train_idxs = np.random.choice(animal_idxs, len(animal_idxs) // 4, replace=False)\n",
    "test_idxs = np.random.choice(range(len(test_data)), len(test_data) // 4, replace=False)\n",
    "\n",
    "train_data  = torch.utils.data.Subset(train_data, train_idxs) # Select subset of animals for our train_data\n",
    "test_data  = torch.utils.data.Subset(test_data, test_idxs) # Select subset of animals for our train_data\n",
    "\n",
    "# Check the shapes of our training and test sets\n",
    "print('train_data length: %s' % (len(train_data)))\n",
    "print('test_data length: %s' % (len(test_data)))"
   ]
  },
  {
   "cell_type": "markdown",
   "id": "26ee4891",
   "metadata": {},
   "source": [
    "#### Lets visualize some of the training and test examples"
   ]
  },
  {
   "cell_type": "code",
   "execution_count": null,
   "id": "4f89a629",
   "metadata": {},
   "outputs": [],
   "source": [
    "txt_labels = {0: 'airplane', \n",
    "              1: 'automobile', \n",
    "              2: 'bird',\n",
    "              3: 'cat', \n",
    "              4: 'deer', \n",
    "              5: 'dog', \n",
    "              6: 'frog', \n",
    "              7: 'horse', \n",
    "              8:'ship', \n",
    "              9:'truck'}\n",
    "\n",
    "def imshow(img):\n",
    "#     img = img / 2 + 0.5     # unnormalize\n",
    "    npimg = img.numpy()\n",
    "    return np.transpose(npimg, (1, 2, 0))\n",
    "\n",
    "def plot_images(dataset):\n",
    "    plt.rcParams[\"figure.figsize\"] = (9,7)\n",
    "    for i in range(15):\n",
    "        X,y = dataset[i]\n",
    "        ax = plt.subplot(3,5,i+1)\n",
    "        ax.set_title(txt_labels[int(y)])\n",
    "        ax.imshow(imshow(X))\n",
    "    plt.show()"
   ]
  },
  {
   "cell_type": "markdown",
   "id": "8e29c605",
   "metadata": {},
   "source": [
    "Observe how there are only animals left in the training set `train_data` below."
   ]
  },
  {
   "cell_type": "code",
   "execution_count": null,
   "id": "57ce409a",
   "metadata": {},
   "outputs": [],
   "source": [
    "plot_images(train_data)"
   ]
  },
  {
   "cell_type": "markdown",
   "id": "e37de093",
   "metadata": {},
   "source": [
    "The test set on the other hand still visibily contains the non-animal images: `[ship, airplane, automobile, truck]`. If we consider `train_data` to be the representative of the normal data distribution then these non-animal images in `test_data` become outliers."
   ]
  },
  {
   "cell_type": "code",
   "execution_count": null,
   "id": "3e0cfb84",
   "metadata": {},
   "outputs": [],
   "source": [
    "plot_images(test_data)"
   ]
  },
  {
   "cell_type": "markdown",
   "id": "1691c515",
   "metadata": {},
   "source": [
    "## 3. Import a model and get embeddings\n",
    "We pass in the images into the model to generate embeddings in the feature space that we require as inputs for the outlier detection algorithm. \n",
    "\n",
    "The model we are importing is a `resnet50` that comes from [timm](https://timm.fast.ai/), a deep-learning library collection of SOTA models and utilities but outlier detection can be done with any method capable of generating feature embeddings."
   ]
  },
  {
   "cell_type": "code",
   "execution_count": null,
   "id": "c8e22a9f",
   "metadata": {},
   "outputs": [],
   "source": [
    "# Helper function for using a model to generate feature embedding from image data\n",
    "def embed_images(model, dataloader):\n",
    "    feature_embeddings = []\n",
    "\n",
    "    for data in dataloader:\n",
    "        images, labels = data\n",
    "        with torch.no_grad():\n",
    "            embeddings = model(images)\n",
    "            feature_embeddings.extend(embeddings.numpy())\n",
    "    feature_embeddings = np.array(feature_embeddings)\n",
    "    return feature_embeddings"
   ]
  },
  {
   "cell_type": "code",
   "execution_count": null,
   "id": "f93be3b8",
   "metadata": {},
   "outputs": [],
   "source": [
    "# Download the model from timm and set to eval mode\n",
    "model = timm.create_model('resnet50', pretrained=True, num_classes=0)\n",
    "model.eval()\n",
    "\n",
    "# Create dataloaders for more efficient data streaming to the model\n",
    "batch_size = 50\n",
    "trainloader = torch.utils.data.DataLoader(train_data, batch_size=batch_size,\n",
    "                                          shuffle=False, num_workers=2)\n",
    "\n",
    "testloader = torch.utils.data.DataLoader(test_data, batch_size=batch_size,\n",
    "                                         shuffle=False, num_workers=2)\n",
    "\n",
    "# Generate feature embeddings of the training data using the model\n",
    "train_feature_embeddings = embed_images(model, trainloader) # This can take several mins\n",
    "print(f'Train embeddings pooled shape: {train_feature_embeddings.shape}')\n",
    "\n",
    "# Generate feature embeddings of the test data using the model\n",
    "test_feature_embeddings = embed_images(model, testloader) # This can take several mins\n",
    "print(f'Test embeddings pooled shape: {test_feature_embeddings.shape}')"
   ]
  },
  {
   "cell_type": "markdown",
   "id": "267dcb19",
   "metadata": {},
   "source": [
    "## 4. Use cleanlab to find outliers in the dataset\n",
    "With just the feature embeddings and ``cleanlab`` we can now identify outliers in the data. "
   ]
  },
  {
   "cell_type": "markdown",
   "id": "f31f7725",
   "metadata": {},
   "source": [
    "### Finding naturally occuring outlier examples in the train_data\n",
    "\n",
    "Calling ``get_outlier_score()`` on ``train_feature_embeddings`` will find any naturally occuring outliers in ``train_data``. These examples should be animal images that look strange or different from the majority of other animal images in the data."
   ]
  },
  {
   "cell_type": "code",
   "execution_count": null,
   "id": "aef10ced",
   "metadata": {},
   "outputs": [],
   "source": [
    "# Get outlier scores for our train feature embeddings\n",
    "train_outlier_scores = get_outlier_scores(features=train_feature_embeddings)\n",
    "\n",
    "# Visualize top 15 most likeley outlier scores\n",
    "top_train_outlier_idxs = (train_outlier_scores).argsort()[:15]\n",
    "top_train_outlier_subset = torch.utils.data.Subset(train_data, top_train_outlier_idxs)\n",
    "plot_images(top_train_outlier_subset)"
   ]
  },
  {
   "cell_type": "markdown",
   "id": "e73e1639",
   "metadata": {},
   "source": [
    "Just for fun, lets see what our model considers the least likeley outliers in the training set! These examples look very homogeneous as they are very close together in the feature space to many of their neighbors. Two of the deer images are almost mirror versions of each other."
   ]
  },
  {
   "cell_type": "code",
   "execution_count": null,
   "id": "fb2b6afa",
   "metadata": {},
   "outputs": [],
   "source": [
    "# Visualize 15 least probable outlier scores on train_data\n",
    "bottom_train_outlier_idxs = (-train_outlier_scores).argsort()[:15]\n",
    "bottom_train_outlier_subset = torch.utils.data.Subset(train_data, bottom_train_outlier_idxs)\n",
    "plot_images(bottom_train_outlier_subset)"
   ]
  },
  {
   "cell_type": "markdown",
   "id": "61020539",
   "metadata": {},
   "source": [
    "### Finding outlier examples in the test_data\n",
    "We can also use ``get_outlier_score()`` to find the artificially added outlier classes `[airplanes, automobiles, trucks, boats]` into the test dataset.\n",
    "\n",
    "We will begin with creating an ``sklearn.neighbors.NearestNeighbor`` estimator to fit on the ``train_feature_embeddings`` (i.e. the train dataset). The function can be called without passing in a ``knn`` object in which case one will be created internally."
   ]
  },
  {
   "cell_type": "code",
   "execution_count": null,
   "id": "5a9cde0a",
   "metadata": {},
   "outputs": [],
   "source": [
    "# Import KNN estimator and fit it on the train feature embeddings\n",
    "knn = NearestNeighbors(n_neighbors=20,metric=\"cosine\").fit(train_feature_embeddings)\n",
    "\n",
    "# Get outlier scores for the test feature embeddings\n",
    "test_outlier_scores = get_outlier_scores(features=test_feature_embeddings, knn=knn)"
   ]
  },
  {
   "cell_type": "markdown",
   "id": "c1f539b8",
   "metadata": {},
   "source": [
    "<div class=\"alert alert-info\">\n",
    "Not sure which distance metric to use?\n",
    "<br/>\n",
    "    \n",
    "By default `sklearn.neighbors.NearestNeighbor` uses` minkowski` distance, but we generally recommend using `cosine` distance instead when computing distances between neural net representations of data. Internally, `get_outlier_score()` uses sklearn's KNN based on `cosine` distance already.\n",
    "</div>"
   ]
  },
  {
   "cell_type": "code",
   "execution_count": null,
   "id": "eb2ab6f2",
   "metadata": {},
   "outputs": [],
   "source": [
    "# Visualize top 15 most likeley outlier scores\n",
    "top_outlier_idxs = (test_outlier_scores).argsort()[:15]\n",
    "top_outlier_subset = torch.utils.data.Subset(test_data, top_outlier_idxs)\n",
    "plot_images(top_outlier_subset)"
   ]
  },
  {
   "cell_type": "markdown",
   "id": "b0f62378",
   "metadata": {},
   "source": [
    "Notice how almost all outliers identified in `test_data` belong to the holdout classes `[airplane, automobile, ship]`. These feature representations are futher away in the feature space than the feature representations of animal images also found in `test_data`.\n",
    "\n",
    "Just for fun, lets visualize what the `NearestNeighbors` algorithm considers the 15 least probable outliers in our test set."
   ]
  },
  {
   "cell_type": "code",
   "execution_count": null,
   "id": "473ed750",
   "metadata": {},
   "outputs": [],
   "source": [
    "# Visualize 15 least likeley to be outlier scores\n",
    "bottom_outlier_idxs = (-test_outlier_scores).argsort()[:15]\n",
    "bottom_outlier_subset = torch.utils.data.Subset(test_data, bottom_outlier_idxs)\n",
    "plot_images(bottom_outlier_subset)"
   ]
  },
  {
   "cell_type": "markdown",
   "id": "0ed2df5a",
   "metadata": {},
   "source": [
    "Notice there are no images from the out of distribution classes here and all the animals are visually similar to each other.\n",
    "\n",
    "We can also compute the precision/recall curve of our algorithm for the examples."
   ]
  },
  {
   "cell_type": "code",
   "execution_count": null,
   "id": "f8d3c855",
   "metadata": {},
   "outputs": [],
   "source": [
    "animal_labels = [2,3,4,5,6,7] # Animal labels to identify in the dataset\n",
    "test_data_labels = np.array(test_data.dataset.targets) # Get subset labels from out test_data\n",
    "animal_idxs = np.where(np.isin(test_data_labels[test_data.indices], animal_labels))[0] # Find animal idxs\n",
    "not_outlier = np.zeros(len(test_data), dtype=bool)\n",
    "not_outlier[animal_idxs] = True\n",
    "precision, recall, thresholds = precision_recall_curve(not_outlier, 1 - test_outlier_scores)"
   ]
  },
  {
   "cell_type": "code",
   "execution_count": null,
   "id": "fe921fe0",
   "metadata": {},
   "outputs": [],
   "source": [
    "plt.plot(recall, precision)\n",
    "plt.xlabel(\"Recall\", fontsize=14)\n",
    "plt.ylabel(\"Precision\", fontsize=14)\n",
    "plt.show()"
   ]
  },
  {
   "cell_type": "markdown",
   "id": "3baae839",
   "metadata": {},
   "source": [
    "## 4. Thresholding outliers in outlier_scores\n",
    "\n",
    "Now that we know how to find the outlier scores, how do we determine how many of the lowest ranked indices in ``test_data`` should be marked as outliers? We can use the `train_outlier_scores` distribution to calcualte a threshold for the `test_data`.\n",
    "\n",
    "If we want to select a hard threshold for outlier detection on the future test data that gives us around 5% false positives. We can look at the distribution of outlier_scores for the `train_data` (assuming it has no outliers) and use the 5-th percentile of this distribution as the threshold below which to call a test example an outlier.\n",
    "\n",
    "Lets first take a look at our score distributions and see where the 5th precentile falls (along red line)."
   ]
  },
  {
   "cell_type": "code",
   "execution_count": null,
   "id": "fcae48f8",
   "metadata": {},
   "outputs": [],
   "source": [
    "# Calculate 5th percentile of the train_data distribution\n",
    "fifth_percentile = np.percentile(train_outlier_scores, 5)\n",
    "\n",
    "# Plot outlier_score distributions and the 5th percentile cutoff\n",
    "fig, axes = plt.subplots(nrows=1, ncols=2, figsize=(12, 5))\n",
    "plt_range = [min(train_outlier_scores.min(),test_outlier_scores.min()), \\\n",
    "             max(train_outlier_scores.max(),test_outlier_scores.max())]\n",
    "axes[0].hist(train_outlier_scores, range=plt_range, bins=50)\n",
    "axes[0].set(title='train_outlier_scores distribution', ylabel='Frequency')\n",
    "axes[0].axvline(x=fifth_percentile, color='red', linewidth=2)\n",
    "axes[1].hist(test_outlier_scores, range=plt_range, bins=50)\n",
    "axes[1].set(title='test_outlier_scores distribution', ylabel='Frequency')\n",
    "axes[1].axvline(x=fifth_percentile, color='red', linewidth=2)\n",
    "\n",
    "plt.show()"
   ]
  },
  {
   "cell_type": "markdown",
   "id": "55362e5d",
   "metadata": {},
   "source": [
    "Everything to the left of the red line in the distribution of `test_outlier_scores` will be marked as an outlier. Let's measure how well this works. \n",
    "\n",
    "**Visually check the threshold**\n",
    "\n",
    "First lets plot the least sure outliers of our `test_data`. These are the images immediately to the left of that cuttoff line. As you can see majority of them are still true outliers however there are a few less standard looking animals that are now falseley identified as outliers as well."
   ]
  },
  {
   "cell_type": "code",
   "execution_count": null,
   "id": "b2e40fea",
   "metadata": {},
   "outputs": [],
   "source": [
    "# Visualize 15 outlier scores right along the cuttoff (i.e. the least likeley outliers given threshold)\n",
    "sorted_idxs = test_outlier_scores.argsort()\n",
    "outlier_scores = test_outlier_scores[sorted_idxs]\n",
    "outlier_indices = sorted_idxs[outlier_scores < fifth_percentile] # Images in test data flagged as outliers\n",
    "\n",
    "selected_outlier_subset = torch.utils.data.Subset(test_data, outlier_indices[::-1])\n",
    "plot_images(selected_outlier_subset)"
   ]
  },
  {
   "cell_type": "markdown",
   "id": "eb8c74f4",
   "metadata": {},
   "source": [
    "**Empirically measure threshold effectiveness**\n",
    "\n",
    "Setting the hard threshold to the 5-th percentile of the `train_data` gives us almost exactly a 5% false positive rate. If that is what we are looking for, this is an effective threshold cuttoff for this data distribution."
   ]
  },
  {
   "cell_type": "code",
   "execution_count": null,
   "id": "24a40cba",
   "metadata": {},
   "outputs": [],
   "source": [
    "animal_labels = [2,3,4,5,6,7] # Animal labels in the dataset\n",
    "test_data_labels = np.array(test_data.dataset.targets) # Get subset labels from out test_data\n",
    "animal_idxs = np.where(np.isin(test_data_labels[test_data.indices], animal_labels))[0]\n",
    "\n",
    "false_positive_idxs = set(outlier_indices).intersection(set(animal_idxs))\n",
    "FPR = len(false_positive_idxs) / (len(false_positive_idxs) + len(animal_idxs))\n",
    "print(f'Number of false positives detected: {len(false_positive_idxs)}\\nFalse positive rate: {round(FPR,4)} ')"
   ]
  },
  {
   "cell_type": "code",
   "execution_count": null,
   "id": "740a8774",
   "metadata": {
    "tags": [
     "\"nbsphinx\":\"hidden\""
    ]
   },
   "outputs": [],
   "source": [
    "# Note: This cell is only for docs.cleanlab.ai, if running on local Jupyter or Colab, please ignore it.\n",
    "\n",
    "top_outlier_idxs_test = [ 311,  776, 1997, 1357,  149, 2130, 1737, 1696,  504,   14, 1761, 908, 1621, 1405, 1798]\n",
    "top_outlier_idxs_train = [3189, 4118, 5012, 2525, 3555, 1419, 4604, 2514, 6663, 1892, 1317, 4737, 4612, 7062, 5960]\n",
    "\n",
    "if not all(x in top_outlier_idxs for x in top_outlier_idxs_test):\n",
    "    raise Exception(\"Some highlighted examples are missing from top outliers in test set.\")\n",
    "\n",
    "if not all(x in top_train_outlier_idxs for x in top_outlier_idxs_train):\n",
    "    raise Exception(\"Some highlighted examples are missing from bottom test set outliers.\")"
   ]
  }
 ],
 "metadata": {
  "celltoolbar": "Tags",
  "kernelspec": {
   "display_name": "cleanlab-p38",
   "language": "python",
   "name": "cleanlab-p38"
  },
  "language_info": {
   "codemirror_mode": {
    "name": "ipython",
    "version": 3
   },
   "file_extension": ".py",
   "mimetype": "text/x-python",
   "name": "python",
   "nbconvert_exporter": "python",
   "pygments_lexer": "ipython3",
   "version": "3.8.13"
  }
 },
 "nbformat": 4,
 "nbformat_minor": 5
}
